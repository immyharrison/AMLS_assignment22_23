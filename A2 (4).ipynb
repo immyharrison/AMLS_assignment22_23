{
 "cells": [
  {
   "cell_type": "markdown",
   "metadata": {},
   "source": [
    "# Import Libraries "
   ]
  },
  {
   "cell_type": "code",
   "execution_count": 1,
   "metadata": {},
   "outputs": [],
   "source": [
    "#import standard libraries \n",
    "import pandas as pd\n",
    "import os \n",
    "import numpy as np\n",
    "from PIL import Image\n",
    "from sklearn import preprocessing\n",
    "from pathlib import Path\n",
    "from sklearn.model_selection import train_test_split"
   ]
  },
  {
   "cell_type": "code",
   "execution_count": 2,
   "metadata": {},
   "outputs": [],
   "source": [
    "# import sklearn models and metrics \n",
    "from sklearn.linear_model import LogisticRegression\n",
    "from sklearn.svm import LinearSVC\n",
    "from sklearn.tree import DecisionTreeClassifier\n",
    "from sklearn.ensemble import RandomForestClassifier\n",
    "from sklearn.neighbors import KNeighborsClassifier\n",
    "from sklearn.model_selection import RepeatedKFold\n",
    "from sklearn.model_selection import cross_val_score\n",
    "from sklearn.metrics import accuracy_score\n",
    "from sklearn.model_selection import GridSearchCV"
   ]
  },
  {
   "cell_type": "code",
   "execution_count": 3,
   "metadata": {},
   "outputs": [],
   "source": [
    "#import conusion matrix (plot)\n",
    "from sklearn.metrics import confusion_matrix\n",
    "from sklearn.metrics import plot_confusion_matrix\n",
    "import matplotlib.pyplot as plt"
   ]
  },
  {
   "cell_type": "code",
   "execution_count": 4,
   "metadata": {},
   "outputs": [],
   "source": [
    "# importing learning rate graph libraries \n",
    "from sklearn.preprocessing import StandardScaler\n",
    "from sklearn.pipeline import make_pipeline\n",
    "from sklearn.model_selection import learning_curve\n",
    "from sklearn import datasets\n",
    "import matplotlib.pyplot as plt"
   ]
  },
  {
   "cell_type": "markdown",
   "metadata": {},
   "source": [
    "# File path for data "
   ]
  },
  {
   "cell_type": "code",
   "execution_count": 5,
   "metadata": {},
   "outputs": [],
   "source": [
    "def file_path():    \n",
    "    #current pathway\n",
    "    path = (os.getcwd())\n",
    "    #removing current folder from file path \n",
    "    main_folder_path = path.strip('\\\\A2') \n",
    "    return main_folder_path "
   ]
  },
  {
   "cell_type": "code",
   "execution_count": null,
   "metadata": {},
   "outputs": [],
   "source": []
  },
  {
   "cell_type": "code",
   "execution_count": null,
   "metadata": {},
   "outputs": [],
   "source": []
  },
  {
   "cell_type": "markdown",
   "metadata": {},
   "source": [
    "# Import Data"
   ]
  },
  {
   "cell_type": "code",
   "execution_count": 8,
   "metadata": {},
   "outputs": [],
   "source": [
    "# load x train data\n",
    "def import_x(main_folder_path):\n",
    "    #get all images from file \n",
    "    def get_images(path):\n",
    "        #create array to store all array from all images \n",
    "        all_images_as_array = []\n",
    "        # for each image in folder \n",
    "        for filename in os.listdir(path):\n",
    "            #open image\n",
    "            img = Image.open(path+filename)\n",
    "            #resize image to 64x64\n",
    "            new_img = img.resize((64, 64))\n",
    "            #convert image to array \n",
    "            np_array = np.asarray(new_img)\n",
    "            #appenda array to array for all images \n",
    "            all_images_as_array.append(np_array)\n",
    "        # output array for all images \n",
    "        return np.array(all_images_as_array)\n",
    "    # file path to train data - call function \n",
    "    x_train = get_images(main_folder_path + '\\\\Datasets\\\\celeba\\\\img\\\\')\n",
    "    #pre-processing data\n",
    "    x_train = np.reshape(x_train, (x_train.shape[0], -1))\n",
    "    #create normalisation scalar\n",
    "    scaler = preprocessing.StandardScaler().fit(x_train)\n",
    "    #apply scaler to the raining data \n",
    "    x_train_not_split = scaler.transform(x_train)\n",
    "    #output training data \n",
    "    return x_train_not_split"
   ]
  },
  {
   "cell_type": "code",
   "execution_count": 9,
   "metadata": {},
   "outputs": [],
   "source": [
    "# import y label train\n",
    "def import_y(main_folder_path):\n",
    "    #import labels csv file as pandas file \n",
    "    dataFrame = pd.read_csv(main_folder_path+'\\\\Datasets\\\\celeba\\\\labels.csv',header = None, prefix=\"data\")\n",
    "    #split data into columns for each label \n",
    "    dataFrame['data1']= dataFrame['data0'].str.split('\\t')\n",
    "    #label each of the columns \n",
    "    df3 = pd.DataFrame(dataFrame['data1'].to_list(), columns=['image_number','jpg','gender','smiling'])\n",
    "    # replace -1 with 0 \n",
    "    df3['smiling'] = df3['smiling'].replace(['-1'], '0')\n",
    "    #order rows by image number - same order as image input \n",
    "    df3 = df3.sort_values(by ='image_number')\n",
    "    #remove row 0\n",
    "    df3 = df3.drop(0)\n",
    "    #make label column numberic\n",
    "    df3['smiling'] = pd.to_numeric(df3['smiling'])\n",
    "    #create y vaiable \n",
    "    y_train_not_split = df3['smiling']\n",
    "    #output y variable \n",
    "    return y_train_not_split"
   ]
  },
  {
   "cell_type": "markdown",
   "metadata": {},
   "source": [
    "# Split data "
   ]
  },
  {
   "cell_type": "code",
   "execution_count": 10,
   "metadata": {},
   "outputs": [],
   "source": [
    "#split data \n",
    "def split_data(x,y):\n",
    "    #split the training data to 80% training data and 20% validation \n",
    "    x_train,x_test,y_train,y_test=train_test_split(x,y,test_size=0.2) \n",
    "    # retrun split data \n",
    "    return x_train,x_test,y_train,y_test \n"
   ]
  },
  {
   "cell_type": "markdown",
   "metadata": {},
   "source": [
    "# Import Test data "
   ]
  },
  {
   "cell_type": "code",
   "execution_count": 11,
   "metadata": {},
   "outputs": [],
   "source": [
    "# y test\n",
    "def import_y_test(main_folder_path):\n",
    "    #import csv label file \n",
    "    test_dataFrame = pd.read_csv(main_folder_path+'\\\\Datasets\\\\celeba_test\\\\labels.csv',header = None, prefix=\"data\")\n",
    "    #split data into column for each label \n",
    "    test_dataFrame['data1']= test_dataFrame['data0'].str.split('\\t')\n",
    "    #label each column \n",
    "    df3 = pd.DataFrame(test_dataFrame['data1'].to_list(), columns=['image_number','jpg','gender','smiling'])\n",
    "    #replace each -1 label with 0\n",
    "    df3['smiling'] = df3['smiling'].replace(['-1'], '0')\n",
    "    #order label alphabetically so match with images \n",
    "    df3 = df3.sort_values(by ='image_number')\n",
    "    #remove first row\n",
    "    df3 = df3.drop(0)\n",
    "    #convert to numerical values \n",
    "    df3['smiling'] = pd.to_numeric(df3['smiling'])\n",
    "    #select smiling column ass y input\n",
    "    y_test_test_data = df3['smiling']\n",
    "    #output y values \n",
    "    return y_test_test_data"
   ]
  },
  {
   "cell_type": "code",
   "execution_count": 12,
   "metadata": {},
   "outputs": [],
   "source": [
    "# load x test data\n",
    "def import_x_test(main_folder_path):\n",
    "    def get_images(path):\n",
    "        #create array for all the image input \n",
    "        all_images_as_array = []\n",
    "        #iterate over all files in the foler \n",
    "        for filename in os.listdir(path):\n",
    "            #open the file \n",
    "            img = Image.open(path+filename)\n",
    "            #resize to 64x64 image \n",
    "            new_img = img.resize((64, 64))\n",
    "            #convert image to array\n",
    "            np_array = np.asarray(new_img)\n",
    "            # add array to array of all images \n",
    "            all_images_as_array.append(np_array)\n",
    "        # output array of all images \n",
    "        return np.array(all_images_as_array)\n",
    "    # get images from file path to folder containg images \n",
    "    x_test_test_data = get_images(main_folder_path+'\\\\Datasets\\\\celeba_test\\\\img\\\\')\n",
    "    # pre-process the images \n",
    "    x_test_test_data = np.reshape(x_test_test_data, (x_test_test_data.shape[0], -1))\n",
    "    #create normalisation sclaer \n",
    "    scaler = preprocessing.StandardScaler().fit(x_test_test_data)\n",
    "    #scale x input to normalise all features \n",
    "    x_test_test_data = scaler.transform(x_test_test_data)\n",
    "    #output x values \n",
    "    return x_test_test_data"
   ]
  },
  {
   "cell_type": "markdown",
   "metadata": {},
   "source": [
    "# Final Model"
   ]
  },
  {
   "cell_type": "code",
   "execution_count": 13,
   "metadata": {},
   "outputs": [],
   "source": [
    "# create finalised model \n",
    "def final_model(x_train, y_train):\n",
    "    # create model with optimised parameters \n",
    "    models =RandomForestClassifier(max_depth=90, min_samples_leaf=5, min_samples_split=8, n_estimators=300)\n",
    "\n",
    "    # Fit the classifier\n",
    "    models.fit(x_train, y_train)\n",
    "    #print the optimised model\n",
    "    print('The optimised model used for A2 is', models)\n",
    "    #output the model \n",
    "    return models"
   ]
  },
  {
   "cell_type": "markdown",
   "metadata": {},
   "source": [
    "# Evaluating final model "
   ]
  },
  {
   "cell_type": "code",
   "execution_count": 14,
   "metadata": {},
   "outputs": [],
   "source": [
    "#asses  the final model \n",
    "def asses_model(models,x_test_test,y_test_test):\n",
    "    \n",
    "\n",
    "    # Make predictions\n",
    "    predictions = models.predict(x_test_test)\n",
    "\n",
    "    # Calculate metrics\n",
    "    accuracy= accuracy_score(predictions, y_test_test)\n",
    "    #print the accuracy of the model as a percentage \n",
    "    print('The accuracy for A2 is:',accuracy*100,'%')\n",
    "\n",
    "    # plot confusion matrix \n",
    "    plot_confusion_matrix(models, x_test_test, y_test_test, cmap=plt.cm.Blues)  \n",
    "    # show graph \n",
    "    plt.show()"
   ]
  },
  {
   "cell_type": "code",
   "execution_count": 15,
   "metadata": {},
   "outputs": [],
   "source": [
    "# function to show final model and evalustion \n",
    "def A2(): \n",
    "    # find file path to the data (images and labels)\n",
    "    main_folder_path = file_path()\n",
    "    # import x values \n",
    "    x_train_not_split = import_x(main_folder_path)\n",
    "    #import y values \n",
    "    y_train_not_split = import_y(main_folder_path)\n",
    "    #split data \n",
    "    x_train,x_test,y_train,y_test=train_test_split(x_train_not_split,y_train_not_split,test_size=0.2) \n",
    "    #import y test values \n",
    "    y_test_test = import_y_test(main_folder_path)\n",
    "    #import x test values \n",
    "    x_test_test = import_x_test(main_folder_path)\n",
    "    #create the final optimiised model \n",
    "    models = final_model(x_train,y_train)\n",
    "    #evaluate the final model \n",
    "    asses_model(models,x_test_test,y_test_test)                                        \n",
    "    \n",
    "    \n",
    "    "
   ]
  },
  {
   "cell_type": "code",
   "execution_count": 16,
   "metadata": {},
   "outputs": [
    {
     "name": "stdout",
     "output_type": "stream",
     "text": [
      "C:\\Users\\Student\\ELEC0134 ML CW\\directory to extract\n",
      "The optimised model used for A2 is RandomForestClassifier(max_depth=90, min_samples_leaf=5, min_samples_split=8,\n",
      "                       n_estimators=300)\n",
      "The accuracy for A2 is: 86.3 %\n"
     ]
    },
    {
     "data": {
      "image/png": "[encoded data removed]",
      "text/plain": [
       "<Figure size 432x288 with 2 Axes>"
      ]
     },
     "metadata": {
      "needs_background": "light"
     },
     "output_type": "display_data"
    }
   ],
   "source": [
    "#run function for final model and its evaluation \n",
    "A2()"
   ]
  },
  {
   "cell_type": "markdown",
   "metadata": {},
   "source": [
    "# Importing training data "
   ]
  },
  {
   "cell_type": "code",
   "execution_count": 20,
   "metadata": {},
   "outputs": [],
   "source": [
    "#function to import training data and split \n",
    "def import_X_Y():\n",
    "    # find file path to the data (images and labels)\n",
    "    main_folder_path = file_path()\n",
    "    # import the x values\n",
    "    x_train_not_split = import_x(main_folder_path)\n",
    "    # import the y vlaues \n",
    "    y_train_not_split = import_y(main_folder_path)\n",
    "    #split the training int otraining and validation datasets \n",
    "    x_train,x_test,y_train,y_test  = split_data(x_train_not_split,y_train_not_split)\n",
    "    # output the validation and training sets \n",
    "    return x_train,x_test,y_train,y_test,x_train_not_split, y_train_not_split "
   ]
  },
  {
   "cell_type": "code",
   "execution_count": 21,
   "metadata": {},
   "outputs": [
    {
     "name": "stdout",
     "output_type": "stream",
     "text": [
      "C:\\Users\\Student\\ELEC0134 ML CW\\directory to extract\\\n"
     ]
    }
   ],
   "source": [
    "# run function to create the training and validation data sets \n",
    "x_train,x_test,y_train,y_test,x_train_not_split, y_train_not_split  = import_X_Y()"
   ]
  },
  {
   "cell_type": "markdown",
   "metadata": {},
   "source": [
    "# CV to determine the most effective model"
   ]
  },
  {
   "cell_type": "code",
   "execution_count": 17,
   "metadata": {},
   "outputs": [],
   "source": [
    "#CV_df = pd.DataFrame({\"METHOD\":[],\"MEAN\":[],\"STD\":[]})\n",
    "cv = RepeatedKFold(n_splits=10, n_repeats=3, random_state=1)"
   ]
  },
  {
   "cell_type": "code",
   "execution_count": 23,
   "metadata": {},
   "outputs": [],
   "source": [
    "#Logistic Regression \n",
    "# create model\n",
    "model= LogisticRegression()\n",
    "# evaluate model\n",
    "scores = cross_val_score(model, x_train, y_train, scoring='accuracy', cv=cv, n_jobs=-1)\n",
    "# create dictary of results \n",
    "CV_df_LR = {'Method':'Logistic regression','MEAN':scores.mean(),'STD':scores.std()}\n"
   ]
  },
  {
   "cell_type": "code",
   "execution_count": 24,
   "metadata": {},
   "outputs": [],
   "source": [
    "# Support vecotr machine \n",
    "#create vector \n",
    "model = LinearSVC()\n",
    "# evaluate model\n",
    "scores = cross_val_score(model, x_train, y_train, scoring='accuracy', cv=cv, n_jobs=-1)\n",
    "#create dictionary of results \n",
    "CV_df_SV = {'Method':'Support Vector','MEAN':scores.mean(),'STD':scores.std()}"
   ]
  },
  {
   "cell_type": "code",
   "execution_count": 25,
   "metadata": {},
   "outputs": [],
   "source": [
    "#Decision Tree\n",
    "#create model \n",
    "model = DecisionTreeClassifier()\n",
    "# evaluate model\n",
    "scores = cross_val_score(model, x_train, y_train, scoring='accuracy', cv=cv, n_jobs=-1)\n",
    "# create a dicotnary of results \n",
    "CV_df_DT = {'Method':'Decision Tree','MEAN':scores.mean(),'STD':scores.std()}"
   ]
  },
  {
   "cell_type": "code",
   "execution_count": 26,
   "metadata": {},
   "outputs": [],
   "source": [
    "#Random Forest \n",
    "#create model \n",
    "model =RandomForestClassifier()\n",
    "# evaluate model\n",
    "scores = cross_val_score(model, x_train, y_train, scoring='accuracy', cv=cv, n_jobs=-1)\n",
    "# create a dicotnary of results \n",
    "CV_df_RF = {'Method':'Random Forest','MEAN':scores.mean(),'STD':scores.std()}"
   ]
  },
  {
   "cell_type": "code",
   "execution_count": 27,
   "metadata": {},
   "outputs": [],
   "source": [
    "#K nearest Neighbours \n",
    "#create model \n",
    "model = KNeighborsClassifier()\n",
    "# evaluate model\n",
    "scores = cross_val_score(model, x_train, y_train, scoring='accuracy', cv=cv, n_jobs=-1)\n",
    "# create a dicotnary of results \n",
    "CV_df_KN = {'Method':'K-Nearest Neighbors','MEAN':scores.mean(),'STD':scores.std()}#"
   ]
  },
  {
   "cell_type": "code",
   "execution_count": 28,
   "metadata": {},
   "outputs": [
    {
     "data": {
      "text/html": [
       "<div>\n",
       "<style scoped>\n",
       "    .dataframe tbody tr th:only-of-type {\n",
       "        vertical-align: middle;\n",
       "    }\n",
       "\n",
       "    .dataframe tbody tr th {\n",
       "        vertical-align: top;\n",
       "    }\n",
       "\n",
       "    .dataframe thead th {\n",
       "        text-align: right;\n",
       "    }\n",
       "</style>\n",
       "<table border=\"1\" class=\"dataframe\">\n",
       "  <thead>\n",
       "    <tr style=\"text-align: right;\">\n",
       "      <th></th>\n",
       "      <th>Method</th>\n",
       "      <th>MEAN</th>\n",
       "      <th>STD</th>\n",
       "    </tr>\n",
       "  </thead>\n",
       "  <tbody>\n",
       "    <tr>\n",
       "      <th>0</th>\n",
       "      <td>Logistic regression</td>\n",
       "      <td>0.855417</td>\n",
       "      <td>0.014678</td>\n",
       "    </tr>\n",
       "    <tr>\n",
       "      <th>1</th>\n",
       "      <td>Support Vector</td>\n",
       "      <td>0.844583</td>\n",
       "      <td>0.017936</td>\n",
       "    </tr>\n",
       "    <tr>\n",
       "      <th>2</th>\n",
       "      <td>Decision Tree</td>\n",
       "      <td>0.754083</td>\n",
       "      <td>0.021169</td>\n",
       "    </tr>\n",
       "    <tr>\n",
       "      <th>3</th>\n",
       "      <td>Random Forest</td>\n",
       "      <td>0.840417</td>\n",
       "      <td>0.015372</td>\n",
       "    </tr>\n",
       "    <tr>\n",
       "      <th>4</th>\n",
       "      <td>K-Nearest Neighbors</td>\n",
       "      <td>0.630583</td>\n",
       "      <td>0.017074</td>\n",
       "    </tr>\n",
       "  </tbody>\n",
       "</table>\n",
       "</div>"
      ],
      "text/plain": [
       "                Method      MEAN       STD\n",
       "0  Logistic regression  0.855417  0.014678\n",
       "1       Support Vector  0.844583  0.017936\n",
       "2        Decision Tree  0.754083  0.021169\n",
       "3        Random Forest  0.840417  0.015372\n",
       "4  K-Nearest Neighbors  0.630583  0.017074"
      ]
     },
     "execution_count": 28,
     "metadata": {},
     "output_type": "execute_result"
    }
   ],
   "source": [
    "#complie dicotaries into one list \n",
    "list_of_dict = CV_df_LR, CV_df_SV, CV_df_DT,CV_df_RF,CV_df_KN\n",
    "# Create Dataframe from list of dictionaries and pass another list as index\n",
    "df = pd.DataFrame(list_of_dict)\n",
    "#print data frame \n",
    "df"
   ]
  },
  {
   "cell_type": "code",
   "execution_count": null,
   "metadata": {},
   "outputs": [],
   "source": []
  },
  {
   "cell_type": "markdown",
   "metadata": {},
   "source": []
  },
  {
   "cell_type": "markdown",
   "metadata": {},
   "source": [
    "# Random forest classifier hyperparameter tuning "
   ]
  },
  {
   "cell_type": "code",
   "execution_count": null,
   "metadata": {},
   "outputs": [],
   "source": []
  },
  {
   "cell_type": "code",
   "execution_count": null,
   "metadata": {},
   "outputs": [],
   "source": []
  },
  {
   "cell_type": "code",
   "execution_count": 8,
   "metadata": {},
   "outputs": [],
   "source": [
    "\n",
    "# Create the parameter grid based on the results of random search \n",
    "param_grid = {'bootstrap': [True],'max_depth': [80, 90, 100, 110, None],'max_features': [2, 3, 'auto'],'min_samples_leaf': [1, 2, 3, 4, 5],'min_samples_split': [2, 5, 8, 10, 12],'n_estimators': [10, 50, 100, 200, 300,]}\n",
    "\n",
    "# Create a based model\n",
    "rf =RandomForestClassifier()\n",
    "#searcg through all parameters to find optimum model \n",
    "grid_search = GridSearchCV(estimator = rf, param_grid = param_grid, cv = 3, n_jobs = -1, verbose = 2)"
   ]
  },
  {
   "cell_type": "code",
   "execution_count": 9,
   "metadata": {
    "scrolled": true
   },
   "outputs": [
    {
     "name": "stdout",
     "output_type": "stream",
     "text": [
      "Fitting 3 folds for each of 1875 candidates, totalling 5625 fits\n"
     ]
    },
    {
     "name": "stderr",
     "output_type": "stream",
     "text": [
      "[Parallel(n_jobs=-1)]: Using backend LokyBackend with 4 concurrent workers.\n",
      "[Parallel(n_jobs=-1)]: Done  33 tasks      | elapsed:   30.0s\n",
      "[Parallel(n_jobs=-1)]: Done 154 tasks      | elapsed:  2.0min\n",
      "[Parallel(n_jobs=-1)]: Done 357 tasks      | elapsed:  4.4min\n",
      "[Parallel(n_jobs=-1)]: Done 640 tasks      | elapsed:  8.4min\n",
      "[Parallel(n_jobs=-1)]: Done 1005 tasks      | elapsed: 56.3min\n",
      "[Parallel(n_jobs=-1)]: Done 1450 tasks      | elapsed: 80.7min\n",
      "[Parallel(n_jobs=-1)]: Done 1977 tasks      | elapsed: 105.8min\n",
      "[Parallel(n_jobs=-1)]: Done 2584 tasks      | elapsed: 157.7min\n",
      "[Parallel(n_jobs=-1)]: Done 3273 tasks      | elapsed: 225.3min\n",
      "[Parallel(n_jobs=-1)]: Done 4042 tasks      | elapsed: 264.7min\n",
      "[Parallel(n_jobs=-1)]: Done 4893 tasks      | elapsed: 353.0min\n",
      "[Parallel(n_jobs=-1)]: Done 5625 out of 5625 | elapsed: 424.7min finished\n"
     ]
    }
   ],
   "source": [
    "# Fit the grid search to the data\n",
    "grid_search.fit(x_train, y_train)\n",
    "#select best parameter \n",
    "grid_search.best_params_\n",
    "best_grid = grid_search.best_estimator_"
   ]
  },
  {
   "cell_type": "code",
   "execution_count": 6,
   "metadata": {},
   "outputs": [],
   "source": [
    "#print best parameters \n",
    "best_grid"
   ]
  },
  {
   "cell_type": "code",
   "execution_count": null,
   "metadata": {},
   "outputs": [],
   "source": []
  },
  {
   "cell_type": "code",
   "execution_count": null,
   "metadata": {},
   "outputs": [],
   "source": []
  },
  {
   "cell_type": "markdown",
   "metadata": {},
   "source": [
    "# Making learning rate plot "
   ]
  },
  {
   "cell_type": "code",
   "execution_count": 8,
   "metadata": {},
   "outputs": [],
   "source": [
    "#create data for all the iteration needed for the learning rate graph \n",
    "pipeline = make_pipeline(RandomForestClassifier(max_depth=90, min_samples_leaf=5, min_samples_split=8,n_estimators=300))\n",
    "# crate output for the training, validation sets on various training sizes \n",
    "train_sizes, train_scores, test_scores = learning_curve(estimator=pipeline, X=x_train_not_split, y=y_train_not_split,cv=10, train_sizes=np.linspace(0.1, 1.0, 10),n_jobs=1)"
   ]
  },
  {
   "cell_type": "code",
   "execution_count": 9,
   "metadata": {},
   "outputs": [],
   "source": [
    "#make datapoint for plot\n",
    "#make training data points \n",
    "train_mean = np.mean(train_scores, axis=1)\n",
    "train_std = np.std(train_scores, axis=1)\n",
    "#make validation data points \n",
    "test_mean = np.mean(test_scores, axis=1)\n",
    "test_std = np.std(test_scores, axis=1)"
   ]
  },
  {
   "cell_type": "code",
   "execution_count": 10,
   "metadata": {},
   "outputs": [
    {
     "data": {
      "image/png": "[encoded data removed]",
      "text/plain": [
       "<Figure size 432x288 with 1 Axes>"
      ]
     },
     "metadata": {
      "needs_background": "light"
     },
     "output_type": "display_data"
    }
   ],
   "source": [
    "#plot learning graph \n",
    "# plot the training data for each of the trani sizes \n",
    "plt.plot(train_sizes, train_mean, color='blue', marker='o', markersize=5, label='Training Accuracy')\n",
    "#add  standard deviation and fill in bluw \n",
    "plt.fill_between(train_sizes, train_mean + train_std, train_mean - train_std, alpha=0.15, color='blue')\n",
    "# plot the validation results for the training \n",
    "plt.plot(train_sizes, test_mean, color='green', marker='+', markersize=5, linestyle='--', label='Validation Accuracy')\n",
    "#add standard deviation and colour area in green\n",
    "plt.fill_between(train_sizes, test_mean + test_std, test_mean - test_std, alpha=0.15, color='green')\n",
    "#add labels to graph/axis\n",
    "plt.title('Learning Curve')\n",
    "plt.xlabel('Training Data Size')\n",
    "plt.ylabel('Model accuracy')\n",
    "plt.grid()\n",
    "#add legend \n",
    "plt.legend(loc='lower right')\n",
    "#print graph \n",
    "plt.show()"
   ]
  },
  {
   "cell_type": "code",
   "execution_count": null,
   "metadata": {},
   "outputs": [],
   "source": []
  },
  {
   "cell_type": "code",
   "execution_count": null,
   "metadata": {},
   "outputs": [],
   "source": []
  },
  {
   "cell_type": "code",
   "execution_count": null,
   "metadata": {},
   "outputs": [],
   "source": []
  },
  {
   "cell_type": "code",
   "execution_count": null,
   "metadata": {},
   "outputs": [],
   "source": []
  },
  {
   "cell_type": "code",
   "execution_count": null,
   "metadata": {},
   "outputs": [],
   "source": []
  },
  {
   "cell_type": "code",
   "execution_count": null,
   "metadata": {},
   "outputs": [],
   "source": []
  },
  {
   "cell_type": "code",
   "execution_count": null,
   "metadata": {},
   "outputs": [],
   "source": []
  }
 ],
 "metadata": {
  "kernelspec": {
   "display_name": "Python 3",
   "language": "python",
   "name": "python3"
  },
  "language_info": {
   "codemirror_mode": {
    "name": "ipython",
    "version": 3
   },
   "file_extension": ".py",
   "mimetype": "text/x-python",
   "name": "python",
   "nbconvert_exporter": "python",
   "pygments_lexer": "ipython3",
   "version": "3.7.7"
  }
 },
 "nbformat": 4,
 "nbformat_minor": 4
}
