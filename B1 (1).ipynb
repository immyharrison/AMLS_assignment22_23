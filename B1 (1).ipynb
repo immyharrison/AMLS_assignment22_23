{
 "cells": [
  {
   "cell_type": "markdown",
   "metadata": {},
   "source": [
    "# Import Libraries "
   ]
  },
  {
   "cell_type": "code",
   "execution_count": 1,
   "metadata": {},
   "outputs": [],
   "source": [
    "#import standard libaries\n",
    "import pandas as pd\n",
    "import os \n",
    "import numpy as np\n",
    "from PIL import Image\n",
    "from sklearn import preprocessing\n",
    "from pathlib import Path\n",
    "from sklearn.model_selection import train_test_split"
   ]
  },
  {
   "cell_type": "code",
   "execution_count": 10,
   "metadata": {},
   "outputs": [],
   "source": [
    "#import ML models and metrics from sklearn library \n",
    "from sklearn.linear_model import LogisticRegression\n",
    "from sklearn.svm import LinearSVC\n",
    "from sklearn.tree import DecisionTreeClassifier\n",
    "from sklearn.ensemble import RandomForestClassifier\n",
    "from sklearn.neighbors import KNeighborsClassifier\n",
    "from sklearn.model_selection import RepeatedKFold\n",
    "from sklearn.model_selection import cross_val_score\n",
    "from sklearn.metrics import accuracy_score\n",
    "from sklearn.model_selection import GridSearchCV"
   ]
  },
  {
   "cell_type": "code",
   "execution_count": 3,
   "metadata": {},
   "outputs": [],
   "source": [
    "# importing learning rate graph libraries \n",
    "from sklearn.preprocessing import StandardScaler\n",
    "from sklearn.pipeline import make_pipeline\n",
    "from sklearn.model_selection import learning_curve\n",
    "from sklearn import datasets\n",
    "import matplotlib.pyplot as plt"
   ]
  },
  {
   "cell_type": "code",
   "execution_count": 4,
   "metadata": {},
   "outputs": [],
   "source": [
    "#import conusion matrix (plot)\n",
    "from sklearn.metrics import confusion_matrix\n",
    "from sklearn.metrics import plot_confusion_matrix\n",
    "import matplotlib.pyplot as plt"
   ]
  },
  {
   "cell_type": "markdown",
   "metadata": {},
   "source": [
    "# Import Training "
   ]
  },
  {
   "cell_type": "code",
   "execution_count": 5,
   "metadata": {},
   "outputs": [],
   "source": [
    "\n",
    "# load x train data\n",
    "def import_x():\n",
    "    #get all images from file \n",
    "    def get_images(path):\n",
    "        #create array to store all array from all images \n",
    "        all_images_as_array = []\n",
    "        # for each image in folder \n",
    "        for filename in os.listdir(path):\n",
    "            #open image\n",
    "            img = Image.open(path+filename)\n",
    "            #resize image to 64x64\n",
    "            new_img = img.resize((64, 64))\n",
    "            #convert image to array \n",
    "            np_array = np.asarray(new_img)\n",
    "            #appenda array to array for all images \n",
    "            all_images_as_array.append(np_array)\n",
    "        # output array for all images \n",
    "        return np.array(all_images_as_array)\n",
    "    # file path to train data - call function \n",
    "    x_train = get_images('Datasets\\\\cartoon_set\\\\img\\\\')\n",
    "    #pre-processing data\n",
    "    x_train = np.reshape(x_train, (x_train.shape[0], -1))\n",
    "    #create normalisation scalar\n",
    "    scaler = preprocessing.StandardScaler().fit(x_train)\n",
    "    #apply scaler to the raining data \n",
    "    x_train_not_split = scaler.transform(x_train)\n",
    "    #output training data \n",
    "    return x_train_not_split"
   ]
  },
  {
   "cell_type": "code",
   "execution_count": 6,
   "metadata": {},
   "outputs": [],
   "source": [
    "# import y label train\n",
    "def import_labels():\n",
    "    #import the csv file \n",
    "    dataFrame = pd.read_csv('Datasets\\\\cartoon_set\\\\labels.csv',header = None, prefix=\"data\")\n",
    "    #seperate the data into different coloumns\n",
    "    dataFrame['data1']= dataFrame['data0'].str.split('\\t')\n",
    "    #rename the titles of the column\n",
    "    df3 = pd.DataFrame(dataFrame['data1'].to_list(), columns=['image_number','eye color','face shape','file name'])\n",
    "    #replace -1 with 0\n",
    "    df3['face shape'] = df3['face shape'].replace(['-1'], '0')\n",
    "    #alphabatises the image number \n",
    "    df3 = df3.sort_values(by ='image_number')\n",
    "    #remove row zero \n",
    "    df3 = df3.drop(0)\n",
    "    #convert to numerical \n",
    "    df3['face shape'] = pd.to_numeric(df3['face shape'])#\n",
    "    #select the face shape column\n",
    "    y_train_not_split = df3['face shape']\n",
    "    #output the y \n",
    "    return y_train_not_split"
   ]
  },
  {
   "cell_type": "code",
   "execution_count": 7,
   "metadata": {},
   "outputs": [],
   "source": [
    "#split data \n",
    "def split_data(x,y):\n",
    "    #split into 80% training and 20% validation\n",
    "    x_train,x_test,y_train,y_test=train_test_split(x,y,test_size=0.2) \n",
    "    #output validation and training set \n",
    "    return x_train,x_test,y_train,y_test \n"
   ]
  },
  {
   "cell_type": "code",
   "execution_count": 34,
   "metadata": {},
   "outputs": [],
   "source": [
    "#create the final model\n",
    "def final_model(x_train, y_train):    \n",
    "    #load classifier \n",
    "    models =LinearSVC(C=1)\n",
    "    # Fit the classifier\n",
    "    models.fit(x_train, y_train)\n",
    "    # print the optimum model \n",
    "    print('The optimised model used for B1 is:',models)\n",
    "    return models "
   ]
  },
  {
   "cell_type": "code",
   "execution_count": 35,
   "metadata": {},
   "outputs": [],
   "source": [
    "# import y label test\n",
    "def import_y_test():\n",
    "    # import the csv test labels \n",
    "    test_dataFrame = pd.read_csv('Datasets\\\\cartoon_set_test\\\\labels.csv',header = None, prefix=\"data\")\n",
    "    #seperate the labels into coloumns\n",
    "    test_dataFrame['data1']= test_dataFrame['data0'].str.split('\\t')\n",
    "    #labe lthe columns\n",
    "    test_df3 = pd.DataFrame(test_dataFrame['data1'].to_list(), columns=['image_number','eye color','face shape','file name'])\n",
    "    #replace the -1 with 0\n",
    "    test_df3['face shape'] = test_df3['face shape'].replace(['-1'], '0')\n",
    "    #alphabilie the table so same as the order of images \n",
    "    test_df3 = test_df3.sort_values(by ='image_number')\n",
    "    #remove row 0\n",
    "    test_df3 = test_df3.drop(0)\n",
    "    #labels as number \n",
    "    test_df3['face shape'] = pd.to_numeric(test_df3['face shape'])\n",
    "    #select the face shape coulmn\n",
    "    y_test_test_data = test_df3['face shape']\n",
    "    #y test output \n",
    "    return y_test_test_data"
   ]
  },
  {
   "cell_type": "code",
   "execution_count": 36,
   "metadata": {},
   "outputs": [],
   "source": [
    "# load x test data \n",
    "def import_x_test():\n",
    "    # get images from file \n",
    "    def get_images(path):\n",
    "        # make array for all the images\n",
    "        all_images_as_array = []\n",
    "        # iterate through all the images in the folder \n",
    "        for filename in os.listdir(path):\n",
    "            # open images\n",
    "            img = Image.open(path+filename)\n",
    "            #resizze images\n",
    "            new_img = img.resize((64, 64))\n",
    "            #make images as array\n",
    "            np_array = np.asarray(new_img)\n",
    "            #append all images to one array\n",
    "            all_images_as_array.append(np_array)\n",
    "        #output arrray of all images\n",
    "        return np.array(all_images_as_array)\n",
    "    # find images at specificl ocation \n",
    "    x_test_test_data = get_images('Datasets\\\\cartoon_set_test\\\\img\\\\')\n",
    "    #preprocess images \n",
    "    x_test_test_data = np.reshape(x_test_test_data, (x_test_test_data.shape[0], -1))\n",
    "    #make normalisation \n",
    "    scaler = preprocessing.StandardScaler().fit(x_test_test_data)\n",
    "    #normalise the input x\n",
    "    x_test_test_data = scaler.transform(x_test_test_data)\n",
    "    output x\n",
    "    return x_test_test_data\n"
   ]
  },
  {
   "cell_type": "code",
   "execution_count": 48,
   "metadata": {},
   "outputs": [],
   "source": [
    "# examine final model on test data\n",
    "def asses_final_model(models,x_test_test,y_test_test):\n",
    "    # Make predictions\n",
    "    predictions = models.predict(x_test_test)\n",
    "\n",
    "    # Calculate metrics\n",
    "    accuracy= accuracy_score(predictions, y_test_test)\n",
    "    #print final model accuracy \n",
    "    print('The accuracy of the optimised model for B1 is:',accuracy*100,'%')\n",
    "\n",
    "    # Confusion matrix  \n",
    "    # plot confusion matrix \n",
    "    plot_confusion_matrix(models, x_test_test, y_test_test, cmap=plt.cm.Blues)  \n",
    "    #show matrix \n",
    "    plt.show()"
   ]
  },
  {
   "cell_type": "code",
   "execution_count": null,
   "metadata": {},
   "outputs": [],
   "source": []
  },
  {
   "cell_type": "code",
   "execution_count": 49,
   "metadata": {},
   "outputs": [],
   "source": [
    "# function to create and asses final model \n",
    "def B1():\n",
    "    # load x train data\n",
    "    x_train_not_split = import_x()\n",
    "    #import y\n",
    "    y_train_not_split = import_labels()\n",
    "    #split to training and training and validation \n",
    "    x_train,x_test,y_train,y_test  = split_data(x_train_not_split,y_train_not_split)\n",
    "    #create final model\n",
    "    models = final_model(x_train,y_train)\n",
    "    #import test y\n",
    "    y_test_test = import_y_test()\n",
    "    #import test x\n",
    "    x_test_test = import_x_test()\n",
    "    #evaluate final model \n",
    "    asses_final_model(models,x_test_test,y_test_test)\n"
   ]
  },
  {
   "cell_type": "code",
   "execution_count": 50,
   "metadata": {},
   "outputs": [
    {
     "name": "stderr",
     "output_type": "stream",
     "text": [
      "C:\\Users\\Student\\anaconda3\\lib\\site-packages\\sklearn\\svm\\_base.py:977: ConvergenceWarning: Liblinear failed to converge, increase the number of iterations.\n",
      "  \"the number of iterations.\", ConvergenceWarning)\n"
     ]
    },
    {
     "name": "stdout",
     "output_type": "stream",
     "text": [
      "The optimised model used for B1 is: LinearSVC(C=1)\n",
      "The accuracy of the optimised model for B1 is: 99.92 %\n"
     ]
    },
    {
     "data": {
      "image/png": "[encoded data removed]",
      "text/plain": [
       "<Figure size 432x288 with 2 Axes>"
      ]
     },
     "metadata": {
      "needs_background": "light"
     },
     "output_type": "display_data"
    }
   ],
   "source": [
    "#create final model and evaluate \n",
    "B1()"
   ]
  },
  {
   "cell_type": "code",
   "execution_count": null,
   "metadata": {},
   "outputs": [],
   "source": [
    "#function to import training data and split into training and validation set \n",
    "def import_X_Y():\n",
    "    #import x\n",
    "    x_train_not_split = import_x()\n",
    "    #import y \n",
    "    y_train_not_split = import_labels()\n",
    "    #plit data \n",
    "    x_train,x_test,y_train,y_test  = split_data(x_train_not_split,y_train_not_split)\n",
    "    #retrun training and validation data\n",
    "    return x_train,x_test,y_train,y_test"
   ]
  },
  {
   "cell_type": "code",
   "execution_count": null,
   "metadata": {},
   "outputs": [],
   "source": [
    "# calling function to import data and make training and validation datasets \n",
    "x_train,x_test,y_train,y_test = import_X_Y()"
   ]
  },
  {
   "cell_type": "markdown",
   "metadata": {},
   "source": [
    "# Cross Validation"
   ]
  },
  {
   "cell_type": "code",
   "execution_count": 15,
   "metadata": {},
   "outputs": [],
   "source": [
    "# create dicotary to hold CV results \n",
    "CV_df = pd.DataFrame({\"METHOD\":[],\"MEAN\":[],\"STD\":[]})\n",
    "#cross validation - split data into 10 graoups and repate 3 times \n",
    "cv = RepeatedKFold(n_splits=10, n_repeats=3, random_state=1)     "
   ]
  },
  {
   "cell_type": "code",
   "execution_count": 16,
   "metadata": {},
   "outputs": [],
   "source": [
    "#Logistic regression \n",
    "# create model\n",
    "model = LogisticRegression()\n",
    "# evaluate model\n",
    "scores = cross_val_score(model, x_train, y_train, scoring='accuracy', cv=cv, n_jobs=-1)\n",
    "#create dicoary of results \n",
    "CV_df_LR = {'Method':'Logistic regression','MEAN':scores.mean(),'STD':scores.std()}"
   ]
  },
  {
   "cell_type": "code",
   "execution_count": 17,
   "metadata": {},
   "outputs": [],
   "source": [
    "# support vecotr machine \n",
    "#create model \n",
    "model = LinearSVC()\n",
    "# evaluate model\n",
    "scores = cross_val_score(model, x_train, y_train, scoring='accuracy', cv=cv, n_jobs=-1)\n",
    "#create dictoary of results \n",
    "CV_df_SV = {'Method':'Support Vector','MEAN':scores.mean(),'STD':scores.std()}"
   ]
  },
  {
   "cell_type": "code",
   "execution_count": 18,
   "metadata": {},
   "outputs": [],
   "source": [
    "#Decision  tree \n",
    "#create model \n",
    "model = DecisionTreeClassifier()\n",
    "# evaluate model\n",
    "scores = cross_val_score(model, x_train, y_train, scoring='accuracy', cv=cv, n_jobs=-1)\n",
    "#create dicotary of results \n",
    "CV_df_DT = {'Method':'Decision Tree','MEAN':scores.mean(),'STD':scores.std()}"
   ]
  },
  {
   "cell_type": "code",
   "execution_count": 19,
   "metadata": {},
   "outputs": [],
   "source": [
    "#Random Forest  \n",
    "#creat model\n",
    "model = RandomForestClassifier()\n",
    "# evaluate model\n",
    "scores = cross_val_score(model, x_train, y_train, scoring='accuracy', cv=cv, n_jobs=-1)\n",
    "#create dicotary of results \n",
    "CV_df_RF = {'Method':'Random Forest','MEAN':scores.mean(),'STD':scores.std()}"
   ]
  },
  {
   "cell_type": "code",
   "execution_count": 20,
   "metadata": {},
   "outputs": [],
   "source": [
    "#K nearest Neighbours  \n",
    "#creat model\n",
    "model = KNeighborsClassifier()\n",
    "#evaluate model\n",
    "scores = cross_val_score(model, x_train, y_train, scoring='accuracy', cv=cv, n_jobs=-1)\n",
    "#creaet dictoary of results \n",
    "CV_df_KN = {'Method':'K-Nearest Neighbors','MEAN':scores.mean(),'STD':scores.std()}"
   ]
  },
  {
   "cell_type": "code",
   "execution_count": 21,
   "metadata": {},
   "outputs": [],
   "source": [
    "#compile dictoaries into one pandnas tabel\n",
    "list_of_dict = CV_df_LR, CV_df_DT,CV_df_RF,CV_df_KN\n",
    "# add list to pandas data frame \n",
    "df = pd.DataFrame(list_of_dict)\n",
    "#print table of results \n",
    "df"
   ]
  },
  {
   "cell_type": "code",
   "execution_count": null,
   "metadata": {},
   "outputs": [],
   "source": []
  },
  {
   "cell_type": "markdown",
   "metadata": {},
   "source": [
    "# Hyperparameter "
   ]
  },
  {
   "cell_type": "code",
   "execution_count": 22,
   "metadata": {},
   "outputs": [],
   "source": [
    "\n",
    "# Create the parameter grid based on the results of random search \n",
    "param_grid = {'C': [0.1,1, 10, 100]}\n",
    "\n",
    "# Create a based model\n",
    "sv =LinearSVC()\n",
    "# iterate through all the C values 3 times \n",
    "grid_search = GridSearchCV(estimator = sv, param_grid = param_grid, cv = 3, n_jobs = -1, verbose = 2)"
   ]
  },
  {
   "cell_type": "code",
   "execution_count": 23,
   "metadata": {},
   "outputs": [],
   "source": [
    "# Fit the grid search to the data\n",
    "grid_search.fit(x_train, y_train)\n",
    "#find best parameters \n",
    "grid_search.best_params_\n",
    "best_grid = grid_search.best_estimator_"
   ]
  },
  {
   "cell_type": "code",
   "execution_count": 24,
   "metadata": {},
   "outputs": [],
   "source": [
    "#print best parameters \n",
    "best_grid"
   ]
  },
  {
   "cell_type": "markdown",
   "metadata": {},
   "source": [
    "# Making hyperparameter boxlplot"
   ]
  },
  {
   "cell_type": "code",
   "execution_count": 25,
   "metadata": {},
   "outputs": [],
   "source": [
    "# result of CV into tabel \n",
    "# compile results into pandas table \n",
    "results_df = pd.DataFrame(grid_search.cv_results_)\n",
    "# sort by best test score \n",
    "results_df = results_df.sort_values(by=[\"rank_test_score\"])\n",
    "# compine results to find averages \n",
    "results_df = results_df.set_index(results_df[\"params\"].apply(lambda x: \"_\".join(str(val) for val in x.values()))).rename_axis(\"kernel\")\n",
    "# add columns for the mean/ standard deviation to table \n",
    "results_df[[\"params\", \"rank_test_score\", \"mean_test_score\", \"std_test_score\"]]"
   ]
  },
  {
   "cell_type": "code",
   "execution_count": 26,
   "metadata": {},
   "outputs": [],
   "source": [
    "# extract paramets and test scores \n",
    "r_df = results_df[['param_C','split0_test_score','split1_test_score' , 'split2_test_score']]"
   ]
  },
  {
   "cell_type": "code",
   "execution_count": 27,
   "metadata": {},
   "outputs": [],
   "source": [
    "# plot test scores \n",
    "df = r_df.set_index('param_C')\n",
    "df.T.boxplot()"
   ]
  },
  {
   "cell_type": "markdown",
   "metadata": {},
   "source": [
    "# Learning rate graph "
   ]
  },
  {
   "cell_type": "code",
   "execution_count": 28,
   "metadata": {},
   "outputs": [],
   "source": [
    "#create data for all the iteration needed for the learning rate graph \n",
    "pipeline = make_pipeline(LinearSVC(C=1))\n",
    "#create parameters to measure and vary #\n",
    "train_sizes, train_scores, test_scores = learning_curve(estimator=pipeline, X=x_train_not_split, y=y_train_not_split,cv=10, train_sizes=np.linspace(0.1, 1.0, 10),n_jobs=1)"
   ]
  },
  {
   "cell_type": "code",
   "execution_count": 29,
   "metadata": {},
   "outputs": [],
   "source": [
    "# calculates points for plot \n",
    "#calcuate training plots \n",
    "train_mean = np.mean(train_scores, axis=1)\n",
    "train_std = np.std(train_scores, axis=1)\n",
    "#calculates validation set plot points \n",
    "test_mean = np.mean(test_scores, axis=1)\n",
    "test_std = np.std(test_scores, axis=1)"
   ]
  },
  {
   "cell_type": "code",
   "execution_count": 30,
   "metadata": {},
   "outputs": [],
   "source": [
    "#create learning plot \n",
    "#create plot for the training data against training size \n",
    "plt.plot(train_sizes, train_mean, color='blue', marker='o', markersize=5, label='Training Accuracy')\n",
    "#fill with blue to show standard deviation \n",
    "plt.fill_between(train_sizes, train_mean + train_std, train_mean - train_std, alpha=0.15, color='blue')\n",
    "#creat eplot for valiation data \n",
    "plt.plot(train_sizes, test_mean, color='green', marker='+', markersize=5, linestyle='--', label='Validation Accuracy')\n",
    "#fill standard divation in green \n",
    "plt.fill_between(train_sizes, test_mean + test_std, test_mean - test_std, alpha=0.15, color='green')\n",
    "#title and axis label the groah \n",
    "plt.title('Learning Curve')\n",
    "plt.xlabel('Training Data Size')\n",
    "plt.ylabel('Model accuracy')\n",
    "plt.grid()\n",
    "#create legend for colours \n",
    "plt.legend(loc='lower right')\n",
    "#show graph \n",
    "plt.show()"
   ]
  },
  {
   "cell_type": "code",
   "execution_count": null,
   "metadata": {},
   "outputs": [],
   "source": [
    " "
   ]
  },
  {
   "cell_type": "code",
   "execution_count": null,
   "metadata": {},
   "outputs": [],
   "source": []
  },
  {
   "cell_type": "code",
   "execution_count": null,
   "metadata": {},
   "outputs": [],
   "source": []
  },
  {
   "cell_type": "code",
   "execution_count": null,
   "metadata": {},
   "outputs": [],
   "source": []
  },
  {
   "cell_type": "code",
   "execution_count": null,
   "metadata": {},
   "outputs": [],
   "source": []
  },
  {
   "cell_type": "code",
   "execution_count": null,
   "metadata": {},
   "outputs": [],
   "source": []
  },
  {
   "cell_type": "code",
   "execution_count": null,
   "metadata": {},
   "outputs": [],
   "source": []
  },
  {
   "cell_type": "code",
   "execution_count": null,
   "metadata": {},
   "outputs": [],
   "source": []
  },
  {
   "cell_type": "code",
   "execution_count": null,
   "metadata": {},
   "outputs": [],
   "source": []
  }
 ],
 "metadata": {
  "kernelspec": {
   "display_name": "Python 3",
   "language": "python",
   "name": "python3"
  },
  "language_info": {
   "codemirror_mode": {
    "name": "ipython",
    "version": 3
   },
   "file_extension": ".py",
   "mimetype": "text/x-python",
   "name": "python",
   "nbconvert_exporter": "python",
   "pygments_lexer": "ipython3",
   "version": "3.7.7"
  }
 },
 "nbformat": 4,
 "nbformat_minor": 4
}
