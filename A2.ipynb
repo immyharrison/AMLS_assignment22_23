{
 "cells": [
  {
   "cell_type": "markdown",
   "metadata": {},
   "source": [
    "# Import Libraries "
   ]
  },
  {
   "cell_type": "code",
   "execution_count": 1,
   "metadata": {},
   "outputs": [],
   "source": [
    "#import standard libraries \n",
    "import pandas as pd\n",
    "import os \n",
    "import numpy as np\n",
    "from PIL import Image\n",
    "from sklearn import preprocessing#\n",
    "from pathlib import Path\n",
    "from sklearn.model_selection import train_test_split"
   ]
  },
  {
   "cell_type": "code",
   "execution_count": 2,
   "metadata": {},
   "outputs": [],
   "source": [
    "# import sklearn models and metrics \n",
    "from sklearn.linear_model import LogisticRegression\n",
    "from sklearn.svm import LinearSVC\n",
    "from sklearn.tree import DecisionTreeClassifier\n",
    "from sklearn.ensemble import RandomForestClassifier\n",
    "from sklearn.neighbors import KNeighborsClassifier\n",
    "from sklearn.model_selection import RepeatedKFold\n",
    "from sklearn.model_selection import cross_val_score\n",
    "from sklearn.metrics import accuracy_score\n",
    "from sklearn.model_selection import GridSearchCV"
   ]
  },
  {
   "cell_type": "code",
   "execution_count": 3,
   "metadata": {},
   "outputs": [],
   "source": [
    "#import conusion matrix (plot)\n",
    "from sklearn.metrics import confusion_matrix\n",
    "from sklearn.metrics import plot_confusion_matrix\n",
    "import matplotlib.pyplot as plt"
   ]
  },
  {
   "cell_type": "code",
   "execution_count": 4,
   "metadata": {},
   "outputs": [],
   "source": [
    "# importing learning rate graph libraries \n",
    "from sklearn.preprocessing import StandardScaler\n",
    "from sklearn.pipeline import make_pipeline\n",
    "from sklearn.model_selection import learning_curve\n",
    "from sklearn import datasets\n",
    "import matplotlib.pyplot as plt"
   ]
  },
  {
   "cell_type": "markdown",
   "metadata": {},
   "source": [
    "# Import Data"
   ]
  },
  {
   "cell_type": "code",
   "execution_count": 5,
   "metadata": {},
   "outputs": [],
   "source": [
    "# load x train data\n",
    "def import_x():\n",
    "    #get all images from file \n",
    "    def get_images(path):\n",
    "        #create array to store all array from all images \n",
    "        all_images_as_array = []\n",
    "        # for each image in folder \n",
    "        for filename in os.listdir(path):\n",
    "            #open image\n",
    "            img = Image.open(path+filename)\n",
    "            #resize image to 64x64\n",
    "            new_img = img.resize((64, 64))\n",
    "            #convert image to array \n",
    "            np_array = np.asarray(new_img)\n",
    "            #appenda array to array for all images \n",
    "            all_images_as_array.append(np_array)\n",
    "        # output array for all images \n",
    "        return np.array(all_images_as_array)\n",
    "    # file path to train data - call function \n",
    "    x_train = get_images('Datasets\\\\celeba\\\\img\\\\')\n",
    "    #pre-processing data\n",
    "    x_train = np.reshape(x_train, (x_train.shape[0], -1))\n",
    "    #create normalisation scalar\n",
    "    scaler = preprocessing.StandardScaler().fit(x_train)\n",
    "    #apply scaler to the raining data \n",
    "    x_train_not_split = scaler.transform(x_train)\n",
    "    #output training data \n",
    "    return x_train_not_split"
   ]
  },
  {
   "cell_type": "code",
   "execution_count": 6,
   "metadata": {},
   "outputs": [],
   "source": [
    "# import y label train\n",
    "def import_y():\n",
    "    #import labels csv file as pandas file \n",
    "    dataFrame = pd.read_csv('Datasets\\\\celeba\\\\labels.csv',header = None, prefix=\"data\")\n",
    "    #split data into columns for each label \n",
    "    dataFrame['data1']= dataFrame['data0'].str.split('\\t')\n",
    "    #label each of the columns \n",
    "    df3 = pd.DataFrame(dataFrame['data1'].to_list(), columns=['image_number','jpg','gender','smiling'])\n",
    "    # replace -1 with 0 \n",
    "    df3['smiling'] = df3['smiling'].replace(['-1'], '0')\n",
    "    #order rows by image number - same order as image input \n",
    "    df3 = df3.sort_values(by ='image_number')\n",
    "    #remove row 0\n",
    "    df3 = df3.drop(0)\n",
    "    #make label column numberic\n",
    "    df3['smiling'] = pd.to_numeric(df3['smiling'])\n",
    "    #create y vaiable \n",
    "    y_train_not_split = df3['smiling']\n",
    "    #output y variable \n",
    "    return y_train_not_split"
   ]
  },
  {
   "cell_type": "markdown",
   "metadata": {},
   "source": [
    "# Split data "
   ]
  },
  {
   "cell_type": "code",
   "execution_count": 7,
   "metadata": {},
   "outputs": [],
   "source": [
    "#split data \n",
    "def split_data(x,y):\n",
    "    #split the training data to 80% training data and 20% validation \n",
    "    x_train,x_test,y_train,y_test=train_test_split(x,y,test_size=0.2) \n",
    "    # retrun split data \n",
    "    return x_train,x_test,y_train,y_test \n"
   ]
  },
  {
   "cell_type": "markdown",
   "metadata": {},
   "source": [
    "# Import Test data "
   ]
  },
  {
   "cell_type": "code",
   "execution_count": 8,
   "metadata": {},
   "outputs": [],
   "source": [
    "# y test\n",
    "def import_y_test():\n",
    "    #import csv label file \n",
    "    test_dataFrame = pd.read_csv('Datasets\\\\celeba_test\\\\labels.csv',header = None, prefix=\"data\")\n",
    "    #split data into column for each label \n",
    "    test_dataFrame['data1']= test_dataFrame['data0'].str.split('\\t')\n",
    "    #label each column \n",
    "    df3 = pd.DataFrame(test_dataFrame['data1'].to_list(), columns=['image_number','jpg','gender','smiling'])\n",
    "    #replace each -1 label with 0\n",
    "    df3['smiling'] = df3['smiling'].replace(['-1'], '0')\n",
    "    #order label alphabetically so match with images \n",
    "    df3 = df3.sort_values(by ='image_number')\n",
    "    #remove first row\n",
    "    df3 = df3.drop(0)\n",
    "    #convert to numerical values \n",
    "    df3['smiling'] = pd.to_numeric(df3['smiling'])\n",
    "    #select smiling column ass y input\n",
    "    y_test_test_data = df3['smiling']\n",
    "    #output y values \n",
    "    return y_test_test_data"
   ]
  },
  {
   "cell_type": "code",
   "execution_count": 9,
   "metadata": {},
   "outputs": [],
   "source": [
    "# load x test data\n",
    "def import_x_test():\n",
    "    def get_images(path):\n",
    "        #create array for all the image input \n",
    "        all_images_as_array = []\n",
    "        #iterate over all files in the foler \n",
    "        for filename in os.listdir(path):\n",
    "            #open the file \n",
    "            img = Image.open(path+filename)\n",
    "            #resize to 64x64 image \n",
    "            new_img = img.resize((64, 64))\n",
    "            #convert image to array\n",
    "            np_array = np.asarray(new_img)\n",
    "            # add array to array of all images \n",
    "            all_images_as_array.append(np_array)\n",
    "        # output array of all images \n",
    "        return np.array(all_images_as_array)\n",
    "    # get images from file path to folder containg images \n",
    "    x_test_test_data = get_images('Datasets\\\\celeba_test\\\\img\\\\')\n",
    "    # pre-process the images \n",
    "    x_test_test_data = np.reshape(x_test_test_data, (x_test_test_data.shape[0], -1))\n",
    "    #create normalisation sclaer \n",
    "    scaler = preprocessing.StandardScaler().fit(x_test_test_data)\n",
    "    #scale x input to normalise all features \n",
    "    x_test_test_data = scaler.transform(x_test_test_data)\n",
    "    #output x values \n",
    "    return x_test_test_data"
   ]
  },
  {
   "cell_type": "markdown",
   "metadata": {},
   "source": [
    "# Final Model"
   ]
  },
  {
   "cell_type": "code",
   "execution_count": 12,
   "metadata": {},
   "outputs": [],
   "source": [
    "# create finalised model \n",
    "def final_model(x_train, y_train):\n",
    "    # create model with optimised parameters \n",
    "    models =RandomForestClassifier(max_depth=90, min_samples_leaf=5, min_samples_split=8, n_estimators=300)\n",
    "\n",
    "    # Fit the classifier\n",
    "    models.fit(x_train, y_train)\n",
    "    #print the optimised model\n",
    "    print('The optimised model used for A2 is', models)\n",
    "    #output the model \n",
    "    return models"
   ]
  },
  {
   "cell_type": "markdown",
   "metadata": {},
   "source": [
    "# Evaluating final model "
   ]
  },
  {
   "cell_type": "code",
   "execution_count": 13,
   "metadata": {},
   "outputs": [],
   "source": [
    "#asses  the final model \n",
    "def asses_model(models,x_test_test,y_test_test):\n",
    "    \n",
    "\n",
    "    # Make predictions\n",
    "    predictions = models.predict(x_test_test)\n",
    "\n",
    "    # Calculate metrics\n",
    "    accuracy= accuracy_score(predictions, y_test_test)\n",
    "    #print the accuracy of the model as a percentage \n",
    "    print('The accuracy for A2 is:',accuracy*100,'%')\n",
    "\n",
    "    # plot confusion matrix \n",
    "    plot_confusion_matrix(models, x_test_test, y_test_test, cmap=plt.cm.Blues)  \n",
    "    # show graph \n",
    "    plt.show()"
   ]
  },
  {
   "cell_type": "code",
   "execution_count": 35,
   "metadata": {},
   "outputs": [],
   "source": [
    "# function to show final model and evalustion \n",
    "def A2(): \n",
    "    # import x values \n",
    "    x_train_not_split = import_x()\n",
    "    #import y values \n",
    "    y_train_not_split = import_y()\n",
    "    #split data \n",
    "    x_train,x_test,y_train,y_test=train_test_split(x_train_not_split,y_train_not_split,test_size=0.2) \n",
    "    #import y test values \n",
    "    y_test_test = import_y_test()\n",
    "    #import x test values \n",
    "    x_test_test = import_x_test()\n",
    "    #create the final optimiised model \n",
    "    models = final_model(x_train,y_train)\n",
    "    #evaluate the final model \n",
    "    asses_model(models,x_test_test,y_test_test)                                        \n",
    "    \n",
    "    \n",
    "    "
   ]
  },
  {
   "cell_type": "code",
   "execution_count": 36,
   "metadata": {},
   "outputs": [
    {
     "name": "stdout",
     "output_type": "stream",
     "text": [
      "The optimised model used for A2 is RandomForestClassifier(max_depth=90, min_samples_leaf=5, min_samples_split=8,\n",
      "                       n_estimators=300)\n",
      "The accuracy for A2 is: 86.3 %\n"
     ]
    },
    {
     "data": {
      "image/png": "[encoded data removed]",
      "text/plain": [
       "<Figure size 432x288 with 2 Axes>"
      ]
     },
     "metadata": {
      "needs_background": "light"
     },
     "output_type": "display_data"
    }
   ],
   "source": [
    "#run function for final model and its evaluation \n",
    "A2()"
   ]
  },
  {
   "cell_type": "markdown",
   "metadata": {},
   "source": [
    "# Importing training data "
   ]
  },
  {
   "cell_type": "code",
   "execution_count": 8,
   "metadata": {},
   "outputs": [],
   "source": [
    "#function to import training data and split \n",
    "def import_X_Y():\n",
    "    # import the x values\n",
    "    x_train_not_split = import_x()\n",
    "    # import the y vlaues \n",
    "    y_train_not_split = import_y()\n",
    "    #split the training int otraining and validation datasets \n",
    "    x_train,x_test,y_train,y_test  = split_data(x_train_not_split,y_train_not_split)\n",
    "    # output the validation and training sets \n",
    "    return x_train,x_test,y_train,y_test"
   ]
  },
  {
   "cell_type": "code",
   "execution_count": 9,
   "metadata": {},
   "outputs": [],
   "source": [
    "# run function to create the training and validation data sets \n",
    "x_train,x_test,y_train,y_test = import_X_Y()"
   ]
  },
  {
   "cell_type": "markdown",
   "metadata": {},
   "source": [
    "# CV to determine the most effective model"
   ]
  },
  {
   "cell_type": "code",
   "execution_count": 2,
   "metadata": {},
   "outputs": [],
   "source": [
    "#CV_df = pd.DataFrame({\"METHOD\":[],\"MEAN\":[],\"STD\":[]})\n",
    "cv = RepeatedKFold(n_splits=10, n_repeats=3, random_state=1)"
   ]
  },
  {
   "cell_type": "code",
   "execution_count": 31,
   "metadata": {},
   "outputs": [],
   "source": [
    "#Logistic Regression \n",
    "# create model\n",
    "model= LogisticRegression()\n",
    "# evaluate model\n",
    "scores = cross_val_score(model, x_train, y_train, scoring='accuracy', cv=cv, n_jobs=-1)\n",
    "# create dictary of results \n",
    "CV_df_LR = {'Method':'Logistic regression','MEAN':scores.mean(),'STD':scores.std()}\n"
   ]
  },
  {
   "cell_type": "code",
   "execution_count": 10,
   "metadata": {},
   "outputs": [
    {
     "ename": "NameError",
     "evalue": "name 'cv' is not defined",
     "output_type": "error",
     "traceback": [
      "\u001b[1;31m---------------------------------------------------------------------------\u001b[0m",
      "\u001b[1;31mNameError\u001b[0m                                 Traceback (most recent call last)",
      "\u001b[1;32m<ipython-input-10-55ee653bb021>\u001b[0m in \u001b[0;36m<module>\u001b[1;34m\u001b[0m\n\u001b[0;32m      2\u001b[0m \u001b[0mmodel\u001b[0m \u001b[1;33m=\u001b[0m \u001b[0mLinearSVC\u001b[0m\u001b[1;33m(\u001b[0m\u001b[1;33m)\u001b[0m\u001b[1;33m\u001b[0m\u001b[1;33m\u001b[0m\u001b[0m\n\u001b[0;32m      3\u001b[0m \u001b[1;31m# evaluate model\u001b[0m\u001b[1;33m\u001b[0m\u001b[1;33m\u001b[0m\u001b[1;33m\u001b[0m\u001b[0m\n\u001b[1;32m----> 4\u001b[1;33m \u001b[0mscores\u001b[0m \u001b[1;33m=\u001b[0m \u001b[0mcross_val_score\u001b[0m\u001b[1;33m(\u001b[0m\u001b[0mmodel\u001b[0m\u001b[1;33m,\u001b[0m \u001b[0mx_train\u001b[0m\u001b[1;33m,\u001b[0m \u001b[0my_train\u001b[0m\u001b[1;33m,\u001b[0m \u001b[0mscoring\u001b[0m\u001b[1;33m=\u001b[0m\u001b[1;34m'accuracy'\u001b[0m\u001b[1;33m,\u001b[0m \u001b[0mcv\u001b[0m\u001b[1;33m=\u001b[0m\u001b[0mcv\u001b[0m\u001b[1;33m,\u001b[0m \u001b[0mn_jobs\u001b[0m\u001b[1;33m=\u001b[0m\u001b[1;33m-\u001b[0m\u001b[1;36m1\u001b[0m\u001b[1;33m)\u001b[0m\u001b[1;33m\u001b[0m\u001b[1;33m\u001b[0m\u001b[0m\n\u001b[0m\u001b[0;32m      5\u001b[0m \u001b[0mCV_df_SV\u001b[0m \u001b[1;33m=\u001b[0m \u001b[1;33m{\u001b[0m\u001b[1;34m'Method'\u001b[0m\u001b[1;33m:\u001b[0m\u001b[1;34m'Support Vector'\u001b[0m\u001b[1;33m,\u001b[0m\u001b[1;34m'MEAN'\u001b[0m\u001b[1;33m:\u001b[0m\u001b[0mscores\u001b[0m\u001b[1;33m.\u001b[0m\u001b[0mmean\u001b[0m\u001b[1;33m(\u001b[0m\u001b[1;33m)\u001b[0m\u001b[1;33m,\u001b[0m\u001b[1;34m'STD'\u001b[0m\u001b[1;33m:\u001b[0m\u001b[0mscores\u001b[0m\u001b[1;33m.\u001b[0m\u001b[0mstd\u001b[0m\u001b[1;33m(\u001b[0m\u001b[1;33m)\u001b[0m\u001b[1;33m}\u001b[0m\u001b[1;33m\u001b[0m\u001b[1;33m\u001b[0m\u001b[0m\n",
      "\u001b[1;31mNameError\u001b[0m: name 'cv' is not defined"
     ]
    }
   ],
   "source": [
    "# Support vecotr machine \n",
    "#create vector \n",
    "model = LinearSVC()\n",
    "# evaluate model\n",
    "scores = cross_val_score(model, x_train, y_train, scoring='accuracy', cv=cv, n_jobs=-1)\n",
    "#create dictionary of results \n",
    "CV_df_SV = {'Method':'Support Vector','MEAN':scores.mean(),'STD':scores.std()}"
   ]
  },
  {
   "cell_type": "code",
   "execution_count": 33,
   "metadata": {},
   "outputs": [],
   "source": [
    "#Decision Tree\n",
    "#create model \n",
    "model = DecisionTreeClassifier()\n",
    "# evaluate model\n",
    "scores = cross_val_score(model, x_train, y_train, scoring='accuracy', cv=cv, n_jobs=-1)\n",
    "# create a dicotnary of results \n",
    "CV_df_DT = {'Method':'Decision Tree','MEAN':scores.mean(),'STD':scores.std()}"
   ]
  },
  {
   "cell_type": "code",
   "execution_count": 34,
   "metadata": {},
   "outputs": [],
   "source": [
    "#Random Forest \n",
    "#create model \n",
    "model =RandomForestClassifier()\n",
    "# evaluate model\n",
    "scores = cross_val_score(model, x_train, y_train, scoring='accuracy', cv=cv, n_jobs=-1)\n",
    "# create a dicotnary of results \n",
    "CV_df_RF = {'Method':'Random Forest','MEAN':scores.mean(),'STD':scores.std()}"
   ]
  },
  {
   "cell_type": "code",
   "execution_count": 4,
   "metadata": {},
   "outputs": [],
   "source": [
    "#K nearest Neighbours \n",
    "#create model \n",
    "model = KNeighborsClassifier()\n",
    "# evaluate model\n",
    "scores = cross_val_score(model, x_train, y_train, scoring='accuracy', cv=cv, n_jobs=-1)\n",
    "# create a dicotnary of results \n",
    "CV_df_KN = {'Method':'K-Nearest Neighbors','MEAN':scores.mean(),'STD':scores.std()}#"
   ]
  },
  {
   "cell_type": "code",
   "execution_count": 11,
   "metadata": {},
   "outputs": [
    {
     "ename": "NameError",
     "evalue": "name 'CV_df_LR' is not defined",
     "output_type": "error",
     "traceback": [
      "\u001b[1;31m---------------------------------------------------------------------------\u001b[0m",
      "\u001b[1;31mNameError\u001b[0m                                 Traceback (most recent call last)",
      "\u001b[1;32m<ipython-input-11-221c9e34be13>\u001b[0m in \u001b[0;36m<module>\u001b[1;34m\u001b[0m\n\u001b[1;32m----> 1\u001b[1;33m \u001b[0mlist_of_dict\u001b[0m \u001b[1;33m=\u001b[0m \u001b[0mCV_df_LR\u001b[0m\u001b[1;33m,\u001b[0m \u001b[0mCV_df_SV\u001b[0m\u001b[1;33m,\u001b[0m \u001b[0mCV_df_DT\u001b[0m\u001b[1;33m,\u001b[0m\u001b[0mCV_df_RF\u001b[0m\u001b[1;33m,\u001b[0m\u001b[0mCV_df_KN\u001b[0m\u001b[1;33m\u001b[0m\u001b[1;33m\u001b[0m\u001b[0m\n\u001b[0m\u001b[0;32m      2\u001b[0m \u001b[1;31m# Create Dataframe from list of dictionaries and\u001b[0m\u001b[1;33m\u001b[0m\u001b[1;33m\u001b[0m\u001b[1;33m\u001b[0m\u001b[0m\n\u001b[0;32m      3\u001b[0m \u001b[1;31m# pass another list as index\u001b[0m\u001b[1;33m\u001b[0m\u001b[1;33m\u001b[0m\u001b[1;33m\u001b[0m\u001b[0m\n\u001b[0;32m      4\u001b[0m \u001b[0mdf\u001b[0m \u001b[1;33m=\u001b[0m \u001b[0mpd\u001b[0m\u001b[1;33m.\u001b[0m\u001b[0mDataFrame\u001b[0m\u001b[1;33m(\u001b[0m\u001b[0mlist_of_dict\u001b[0m\u001b[1;33m)\u001b[0m\u001b[1;33m\u001b[0m\u001b[1;33m\u001b[0m\u001b[0m\n\u001b[0;32m      5\u001b[0m \u001b[1;31m#df\u001b[0m\u001b[1;33m\u001b[0m\u001b[1;33m\u001b[0m\u001b[1;33m\u001b[0m\u001b[0m\n",
      "\u001b[1;31mNameError\u001b[0m: name 'CV_df_LR' is not defined"
     ]
    }
   ],
   "source": [
    "#complie dicotaries into one list \n",
    "list_of_dict = CV_df_LR, CV_df_SV, CV_df_DT,CV_df_RF,CV_df_KN\n",
    "# Create Dataframe from list of dictionaries and pass another list as index\n",
    "df = pd.DataFrame(list_of_dict)\n",
    "#print data frame \n",
    "df"
   ]
  },
  {
   "cell_type": "code",
   "execution_count": 11,
   "metadata": {},
   "outputs": [],
   "source": []
  },
  {
   "cell_type": "markdown",
   "metadata": {},
   "source": [
    "# Random forest classifier hyperparameter tuning "
   ]
  },
  {
   "cell_type": "code",
   "execution_count": null,
   "metadata": {},
   "outputs": [],
   "source": []
  },
  {
   "cell_type": "code",
   "execution_count": null,
   "metadata": {},
   "outputs": [],
   "source": []
  },
  {
   "cell_type": "code",
   "execution_count": 8,
   "metadata": {},
   "outputs": [],
   "source": [
    "\n",
    "# Create the parameter grid based on the results of random search \n",
    "param_grid = {'bootstrap': [True],'max_depth': [80, 90, 100, 110, None],'max_features': [2, 3, 'auto'],'min_samples_leaf': [1, 2, 3, 4, 5],'min_samples_split': [2, 5, 8, 10, 12],'n_estimators': [10, 50, 100, 200, 300,]}\n",
    "\n",
    "# Create a based model\n",
    "rf =RandomForestClassifier()\n",
    "#searcg through all parameters to find optimum model \n",
    "grid_search = GridSearchCV(estimator = rf, param_grid = param_grid, cv = 3, n_jobs = -1, verbose = 2)"
   ]
  },
  {
   "cell_type": "code",
   "execution_count": 9,
   "metadata": {
    "scrolled": true
   },
   "outputs": [
    {
     "name": "stdout",
     "output_type": "stream",
     "text": [
      "Fitting 3 folds for each of 1875 candidates, totalling 5625 fits\n"
     ]
    },
    {
     "name": "stderr",
     "output_type": "stream",
     "text": [
      "[Parallel(n_jobs=-1)]: Using backend LokyBackend with 4 concurrent workers.\n",
      "[Parallel(n_jobs=-1)]: Done  33 tasks      | elapsed:   30.0s\n",
      "[Parallel(n_jobs=-1)]: Done 154 tasks      | elapsed:  2.0min\n",
      "[Parallel(n_jobs=-1)]: Done 357 tasks      | elapsed:  4.4min\n",
      "[Parallel(n_jobs=-1)]: Done 640 tasks      | elapsed:  8.4min\n",
      "[Parallel(n_jobs=-1)]: Done 1005 tasks      | elapsed: 56.3min\n",
      "[Parallel(n_jobs=-1)]: Done 1450 tasks      | elapsed: 80.7min\n",
      "[Parallel(n_jobs=-1)]: Done 1977 tasks      | elapsed: 105.8min\n",
      "[Parallel(n_jobs=-1)]: Done 2584 tasks      | elapsed: 157.7min\n",
      "[Parallel(n_jobs=-1)]: Done 3273 tasks      | elapsed: 225.3min\n",
      "[Parallel(n_jobs=-1)]: Done 4042 tasks      | elapsed: 264.7min\n",
      "[Parallel(n_jobs=-1)]: Done 4893 tasks      | elapsed: 353.0min\n",
      "[Parallel(n_jobs=-1)]: Done 5625 out of 5625 | elapsed: 424.7min finished\n"
     ]
    }
   ],
   "source": [
    "# Fit the grid search to the data\n",
    "grid_search.fit(x_train, y_train)\n",
    "#select best parameter \n",
    "grid_search.best_params_\n",
    "best_grid = grid_search.best_estimator_"
   ]
  },
  {
   "cell_type": "code",
   "execution_count": 6,
   "metadata": {},
   "outputs": [],
   "source": [
    "#print best parameters \n",
    "best_grid"
   ]
  },
  {
   "cell_type": "code",
   "execution_count": null,
   "metadata": {},
   "outputs": [],
   "source": []
  },
  {
   "cell_type": "code",
   "execution_count": null,
   "metadata": {},
   "outputs": [],
   "source": []
  },
  {
   "cell_type": "markdown",
   "metadata": {},
   "source": [
    "# Making learning rate plot "
   ]
  },
  {
   "cell_type": "code",
   "execution_count": 8,
   "metadata": {},
   "outputs": [],
   "source": [
    "#create data for all the iteration needed for the learning rate graph \n",
    "pipeline = make_pipeline(RandomForestClassifier(max_depth=90, min_samples_leaf=5, min_samples_split=8,n_estimators=300))\n",
    "# crate output for the training, validation sets on various training sizes \n",
    "train_sizes, train_scores, test_scores = learning_curve(estimator=pipeline, X=x_train_not_split, y=y_train_not_split,cv=10, train_sizes=np.linspace(0.1, 1.0, 10),n_jobs=1)"
   ]
  },
  {
   "cell_type": "code",
   "execution_count": 9,
   "metadata": {},
   "outputs": [],
   "source": [
    "#make datapoint for plot\n",
    "#make training data points \n",
    "train_mean = np.mean(train_scores, axis=1)\n",
    "train_std = np.std(train_scores, axis=1)\n",
    "#make validation data points \n",
    "test_mean = np.mean(test_scores, axis=1)\n",
    "test_std = np.std(test_scores, axis=1)"
   ]
  },
  {
   "cell_type": "code",
   "execution_count": 10,
   "metadata": {},
   "outputs": [
    {
     "data": {
      "image/png": "[encoded data removed]",
      "text/plain": [
       "<Figure size 432x288 with 1 Axes>"
      ]
     },
     "metadata": {
      "needs_background": "light"
     },
     "output_type": "display_data"
    }
   ],
   "source": [
    "#plot learning graph \n",
    "# plot the training data for each of the trani sizes \n",
    "plt.plot(train_sizes, train_mean, color='blue', marker='o', markersize=5, label='Training Accuracy')\n",
    "#add  standard deviation and fill in bluw \n",
    "plt.fill_between(train_sizes, train_mean + train_std, train_mean - train_std, alpha=0.15, color='blue')\n",
    "# plot the validation results for the training \n",
    "plt.plot(train_sizes, test_mean, color='green', marker='+', markersize=5, linestyle='--', label='Validation Accuracy')\n",
    "#add standard deviation and colour area in green\n",
    "plt.fill_between(train_sizes, test_mean + test_std, test_mean - test_std, alpha=0.15, color='green')\n",
    "#add labels to graph/axis\n",
    "plt.title('Learning Curve')\n",
    "plt.xlabel('Training Data Size')\n",
    "plt.ylabel('Model accuracy')\n",
    "plt.grid()\n",
    "#add legend \n",
    "plt.legend(loc='lower right')\n",
    "#print graph \n",
    "plt.show()"
   ]
  },
  {
   "cell_type": "code",
   "execution_count": null,
   "metadata": {},
   "outputs": [],
   "source": []
  },
  {
   "cell_type": "code",
   "execution_count": null,
   "metadata": {},
   "outputs": [],
   "source": []
  },
  {
   "cell_type": "code",
   "execution_count": null,
   "metadata": {},
   "outputs": [],
   "source": []
  },
  {
   "cell_type": "code",
   "execution_count": null,
   "metadata": {},
   "outputs": [],
   "source": []
  },
  {
   "cell_type": "code",
   "execution_count": null,
   "metadata": {},
   "outputs": [],
   "source": []
  },
  {
   "cell_type": "code",
   "execution_count": null,
   "metadata": {},
   "outputs": [],
   "source": []
  },
  {
   "cell_type": "code",
   "execution_count": null,
   "metadata": {},
   "outputs": [],
   "source": []
  }
 ],
 "metadata": {
  "kernelspec": {
   "display_name": "Python 3",
   "language": "python",
   "name": "python3"
  },
  "language_info": {
   "codemirror_mode": {
    "name": "ipython",
    "version": 3
   },
   "file_extension": ".py",
   "mimetype": "text/x-python",
   "name": "python",
   "nbconvert_exporter": "python",
   "pygments_lexer": "ipython3",
   "version": "3.7.7"
  }
 },
 "nbformat": 4,
 "nbformat_minor": 4
}
