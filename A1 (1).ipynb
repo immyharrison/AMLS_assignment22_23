{
 "cells": [
  {
   "cell_type": "code",
   "execution_count": 8,
   "metadata": {},
   "outputs": [],
   "source": [
    "import pandas as pd\n",
    "import os \n",
    "import numpy as np\n",
    "from PIL import Image\n",
    "from sklearn import preprocessing"
   ]
  },
  {
   "cell_type": "code",
   "execution_count": 9,
   "metadata": {},
   "outputs": [],
   "source": [
    "# import libraries\n",
    "import pandas\n",
    "import numpy as np\n",
    "from sklearn.linear_model import LinearRegression\n",
    "from sklearn.model_selection import train_test_split"
   ]
  },
  {
   "cell_type": "code",
   "execution_count": 10,
   "metadata": {},
   "outputs": [],
   "source": [
    "#Import required libraries\n",
    "import pandas as pd\n",
    "import numpy as np\n",
    "import matplotlib.pyplot as plt\n",
    "from sklearn.datasets import load_iris\n",
    "from sklearn import tree\n",
    "from sklearn.model_selection import train_test_split\n",
    "from sklearn.metrics import accuracy_score"
   ]
  },
  {
   "cell_type": "code",
   "execution_count": 11,
   "metadata": {},
   "outputs": [],
   "source": [
    "import pandas as pd\n",
    "from sklearn.preprocessing import MinMaxScaler\n",
    "from sklearn.model_selection import train_test_split\n",
    "from sklearn.linear_model import LogisticRegression\n",
    "from sklearn.metrics import confusion_matrix, classification_report,accuracy_score\n",
    "import numpy as np\n",
    "from sklearn import datasets\n",
    "import matplotlib.pyplot as plt\n",
    "from matplotlib import cm\n",
    "from matplotlib.colors import ListedColormap, BoundaryNorm\n",
    "import matplotlib.patches as patches\n",
    "from scipy.special import expit\n",
    "import itertools"
   ]
  },
  {
   "cell_type": "code",
   "execution_count": 12,
   "metadata": {},
   "outputs": [
    {
     "data": {
      "text/html": [
       "<div>\n",
       "<style scoped>\n",
       "    .dataframe tbody tr th:only-of-type {\n",
       "        vertical-align: middle;\n",
       "    }\n",
       "\n",
       "    .dataframe tbody tr th {\n",
       "        vertical-align: top;\n",
       "    }\n",
       "\n",
       "    .dataframe thead th {\n",
       "        text-align: right;\n",
       "    }\n",
       "</style>\n",
       "<table border=\"1\" class=\"dataframe\">\n",
       "  <thead>\n",
       "    <tr style=\"text-align: right;\">\n",
       "      <th></th>\n",
       "      <th>\\timg_name\\tgender\\tsmiling</th>\n",
       "    </tr>\n",
       "  </thead>\n",
       "  <tbody>\n",
       "    <tr>\n",
       "      <th>0</th>\n",
       "      <td>0\\t0.jpg\\t-1\\t1</td>\n",
       "    </tr>\n",
       "    <tr>\n",
       "      <th>1</th>\n",
       "      <td>1\\t1.jpg\\t-1\\t1</td>\n",
       "    </tr>\n",
       "    <tr>\n",
       "      <th>2</th>\n",
       "      <td>2\\t2.jpg\\t1\\t-1</td>\n",
       "    </tr>\n",
       "    <tr>\n",
       "      <th>3</th>\n",
       "      <td>3\\t3.jpg\\t-1\\t-1</td>\n",
       "    </tr>\n",
       "    <tr>\n",
       "      <th>4</th>\n",
       "      <td>4\\t4.jpg\\t-1\\t-1</td>\n",
       "    </tr>\n",
       "    <tr>\n",
       "      <th>...</th>\n",
       "      <td>...</td>\n",
       "    </tr>\n",
       "    <tr>\n",
       "      <th>4995</th>\n",
       "      <td>4995\\t4995.jpg\\t1\\t1</td>\n",
       "    </tr>\n",
       "    <tr>\n",
       "      <th>4996</th>\n",
       "      <td>4996\\t4996.jpg\\t1\\t1</td>\n",
       "    </tr>\n",
       "    <tr>\n",
       "      <th>4997</th>\n",
       "      <td>4997\\t4997.jpg\\t1\\t1</td>\n",
       "    </tr>\n",
       "    <tr>\n",
       "      <th>4998</th>\n",
       "      <td>4998\\t4998.jpg\\t1\\t1</td>\n",
       "    </tr>\n",
       "    <tr>\n",
       "      <th>4999</th>\n",
       "      <td>4999\\t4999.jpg\\t1\\t1</td>\n",
       "    </tr>\n",
       "  </tbody>\n",
       "</table>\n",
       "<p>5000 rows × 1 columns</p>\n",
       "</div>"
      ],
      "text/plain": [
       "     \\timg_name\\tgender\\tsmiling\n",
       "0                0\\t0.jpg\\t-1\\t1\n",
       "1                1\\t1.jpg\\t-1\\t1\n",
       "2                2\\t2.jpg\\t1\\t-1\n",
       "3               3\\t3.jpg\\t-1\\t-1\n",
       "4               4\\t4.jpg\\t-1\\t-1\n",
       "...                          ...\n",
       "4995        4995\\t4995.jpg\\t1\\t1\n",
       "4996        4996\\t4996.jpg\\t1\\t1\n",
       "4997        4997\\t4997.jpg\\t1\\t1\n",
       "4998        4998\\t4998.jpg\\t1\\t1\n",
       "4999        4999\\t4999.jpg\\t1\\t1\n",
       "\n",
       "[5000 rows x 1 columns]"
      ]
     },
     "execution_count": 12,
     "metadata": {},
     "output_type": "execute_result"
    }
   ],
   "source": [
    "dataFrame = pd.read_csv('Datasets\\\\celeba\\\\labels.csv')\n",
    "dataFrame"
   ]
  },
  {
   "cell_type": "code",
   "execution_count": 13,
   "metadata": {},
   "outputs": [
    {
     "name": "stdout",
     "output_type": "stream",
     "text": [
      "                            data0                          data1\n",
      "0     \\timg_name\\tgender\\tsmiling  [, img_name, gender, smiling]\n",
      "1                 0\\t0.jpg\\t-1\\t1              [0, 0.jpg, -1, 1]\n",
      "2                 1\\t1.jpg\\t-1\\t1              [1, 1.jpg, -1, 1]\n",
      "3                 2\\t2.jpg\\t1\\t-1              [2, 2.jpg, 1, -1]\n",
      "4                3\\t3.jpg\\t-1\\t-1             [3, 3.jpg, -1, -1]\n",
      "...                           ...                            ...\n",
      "4996         4995\\t4995.jpg\\t1\\t1         [4995, 4995.jpg, 1, 1]\n",
      "4997         4996\\t4996.jpg\\t1\\t1         [4996, 4996.jpg, 1, 1]\n",
      "4998         4997\\t4997.jpg\\t1\\t1         [4997, 4997.jpg, 1, 1]\n",
      "4999         4998\\t4998.jpg\\t1\\t1         [4998, 4998.jpg, 1, 1]\n",
      "5000         4999\\t4999.jpg\\t1\\t1         [4999, 4999.jpg, 1, 1]\n",
      "\n",
      "[5001 rows x 2 columns]\n"
     ]
    }
   ],
   "source": [
    "# importing labels for training \n",
    "dataFrame = pd.read_csv('Datasets\\\\celeba\\\\labels.csv',header = None, prefix=\"data\")\n",
    "dataFrame['data1']= dataFrame['data0'].str.split('\\t')\n",
    "#print(dataFrame)"
   ]
  },
  {
   "cell_type": "code",
   "execution_count": 14,
   "metadata": {},
   "outputs": [
    {
     "data": {
      "text/html": [
       "<div>\n",
       "<style scoped>\n",
       "    .dataframe tbody tr th:only-of-type {\n",
       "        vertical-align: middle;\n",
       "    }\n",
       "\n",
       "    .dataframe tbody tr th {\n",
       "        vertical-align: top;\n",
       "    }\n",
       "\n",
       "    .dataframe thead th {\n",
       "        text-align: right;\n",
       "    }\n",
       "</style>\n",
       "<table border=\"1\" class=\"dataframe\">\n",
       "  <thead>\n",
       "    <tr style=\"text-align: right;\">\n",
       "      <th></th>\n",
       "      <th>image_number</th>\n",
       "      <th>jpg</th>\n",
       "      <th>gender</th>\n",
       "      <th>smiling</th>\n",
       "    </tr>\n",
       "  </thead>\n",
       "  <tbody>\n",
       "    <tr>\n",
       "      <th>1</th>\n",
       "      <td>0</td>\n",
       "      <td>0.jpg</td>\n",
       "      <td>-1</td>\n",
       "      <td>1</td>\n",
       "    </tr>\n",
       "    <tr>\n",
       "      <th>2</th>\n",
       "      <td>1</td>\n",
       "      <td>1.jpg</td>\n",
       "      <td>-1</td>\n",
       "      <td>1</td>\n",
       "    </tr>\n",
       "    <tr>\n",
       "      <th>3</th>\n",
       "      <td>2</td>\n",
       "      <td>2.jpg</td>\n",
       "      <td>1</td>\n",
       "      <td>-1</td>\n",
       "    </tr>\n",
       "    <tr>\n",
       "      <th>4</th>\n",
       "      <td>3</td>\n",
       "      <td>3.jpg</td>\n",
       "      <td>-1</td>\n",
       "      <td>-1</td>\n",
       "    </tr>\n",
       "    <tr>\n",
       "      <th>5</th>\n",
       "      <td>4</td>\n",
       "      <td>4.jpg</td>\n",
       "      <td>-1</td>\n",
       "      <td>-1</td>\n",
       "    </tr>\n",
       "    <tr>\n",
       "      <th>...</th>\n",
       "      <td>...</td>\n",
       "      <td>...</td>\n",
       "      <td>...</td>\n",
       "      <td>...</td>\n",
       "    </tr>\n",
       "    <tr>\n",
       "      <th>4996</th>\n",
       "      <td>4995</td>\n",
       "      <td>4995.jpg</td>\n",
       "      <td>1</td>\n",
       "      <td>1</td>\n",
       "    </tr>\n",
       "    <tr>\n",
       "      <th>4997</th>\n",
       "      <td>4996</td>\n",
       "      <td>4996.jpg</td>\n",
       "      <td>1</td>\n",
       "      <td>1</td>\n",
       "    </tr>\n",
       "    <tr>\n",
       "      <th>4998</th>\n",
       "      <td>4997</td>\n",
       "      <td>4997.jpg</td>\n",
       "      <td>1</td>\n",
       "      <td>1</td>\n",
       "    </tr>\n",
       "    <tr>\n",
       "      <th>4999</th>\n",
       "      <td>4998</td>\n",
       "      <td>4998.jpg</td>\n",
       "      <td>1</td>\n",
       "      <td>1</td>\n",
       "    </tr>\n",
       "    <tr>\n",
       "      <th>5000</th>\n",
       "      <td>4999</td>\n",
       "      <td>4999.jpg</td>\n",
       "      <td>1</td>\n",
       "      <td>1</td>\n",
       "    </tr>\n",
       "  </tbody>\n",
       "</table>\n",
       "<p>5000 rows × 4 columns</p>\n",
       "</div>"
      ],
      "text/plain": [
       "     image_number       jpg gender smiling\n",
       "1               0     0.jpg     -1       1\n",
       "2               1     1.jpg     -1       1\n",
       "3               2     2.jpg      1      -1\n",
       "4               3     3.jpg     -1      -1\n",
       "5               4     4.jpg     -1      -1\n",
       "...           ...       ...    ...     ...\n",
       "4996         4995  4995.jpg      1       1\n",
       "4997         4996  4996.jpg      1       1\n",
       "4998         4997  4997.jpg      1       1\n",
       "4999         4998  4998.jpg      1       1\n",
       "5000         4999  4999.jpg      1       1\n",
       "\n",
       "[5000 rows x 4 columns]"
      ]
     },
     "execution_count": 14,
     "metadata": {},
     "output_type": "execute_result"
    }
   ],
   "source": [
    "#relableing labels columns \n",
    "df3 = pd.DataFrame(dataFrame['data1'].to_list(), columns=['image_number','jpg','gender','smiling'])\n",
    "df3 = df3.drop(0)\n",
    "df3"
   ]
  },
  {
   "cell_type": "code",
   "execution_count": 15,
   "metadata": {},
   "outputs": [],
   "source": [
    "# image training set path \n",
    "path = 'Datasets\\\\celeba\\\\img\\\\'\n",
    "\n",
    "for filename in os.listdir(path):\n",
    "    img = Image.open(path+filename)\n",
    "    #img.show()\n"
   ]
  },
  {
   "cell_type": "code",
   "execution_count": null,
   "metadata": {},
   "outputs": [],
   "source": []
  },
  {
   "cell_type": "code",
   "execution_count": 16,
   "metadata": {},
   "outputs": [],
   "source": [
    "# get x test from images in folder \n",
    "def get_images(path):\n",
    "    all_images_as_array = []\n",
    "    label = []\n",
    "    \n",
    "    for filename in os.listdir(path):\n",
    "        img = Image.open(path+filename)\n",
    "        new_img = img.resize((64, 64))\n",
    "        np_array = np.asarray(new_img)\n",
    "        all_images_as_array.append(np_array)\n",
    "\n",
    "    return np.array(all_images_as_array)\n",
    "x_train = get_images('Datasets\\\\celeba\\\\img\\\\')\n",
    "x_train = np.reshape(x_train, (x_train.shape[0], -1))\n",
    "scaler = preprocessing.StandardScaler().fit(x_train)\n",
    "x_train = scaler.transform(x_train)"
   ]
  },
  {
   "cell_type": "code",
   "execution_count": 17,
   "metadata": {},
   "outputs": [],
   "source": [
    "# get x test from ianges in folder \n",
    "def get_images(path):\n",
    "    all_images_as_array = []\n",
    "    label = []\n",
    "    \n",
    "    for filename in os.listdir(path):\n",
    "        img = Image.open(path+filename)\n",
    "        new_img = img.resize((64, 64))\n",
    "        np_array = np.asarray(new_img)\n",
    "        all_images_as_array.append(np_array)\n",
    "\n",
    "    return np.array(all_images_as_array)\n",
    "#length = len(x_test)\n",
    "x_test = get_images('Datasets\\\\celeba_test\\\\img\\\\')\n",
    "x_test = np.reshape(x_test, (x_test.shape[0], -1))\n",
    "scaler = preprocessing.StandardScaler().fit(x_test)\n",
    "x_test = scaler.transform(x_test)"
   ]
  },
  {
   "cell_type": "code",
   "execution_count": null,
   "metadata": {},
   "outputs": [],
   "source": []
  },
  {
   "cell_type": "code",
   "execution_count": 34,
   "metadata": {},
   "outputs": [
    {
     "data": {
      "text/plain": [
       "5000"
      ]
     },
     "execution_count": 34,
     "metadata": {},
     "output_type": "execute_result"
    }
   ],
   "source": [
    "# select the generder labels of images\n",
    "y_train = df3['gender']\n",
    "len(y_train)"
   ]
  },
  {
   "cell_type": "code",
   "execution_count": 38,
   "metadata": {},
   "outputs": [
    {
     "name": "stdout",
     "output_type": "stream",
     "text": [
      "                            data0                          data1\n",
      "0     \\timg_name\\tgender\\tsmiling  [, img_name, gender, smiling]\n",
      "1                0\\t0.jpg\\t-1\\t-1             [0, 0.jpg, -1, -1]\n",
      "2                 1\\t1.jpg\\t-1\\t1              [1, 1.jpg, -1, 1]\n",
      "3                  2\\t2.jpg\\t1\\t1               [2, 2.jpg, 1, 1]\n",
      "4                  3\\t3.jpg\\t1\\t1               [3, 3.jpg, 1, 1]\n",
      "...                           ...                            ...\n",
      "996            995\\t995.jpg\\t1\\t1           [995, 995.jpg, 1, 1]\n",
      "997            996\\t996.jpg\\t1\\t1           [996, 996.jpg, 1, 1]\n",
      "998            997\\t997.jpg\\t1\\t1           [997, 997.jpg, 1, 1]\n",
      "999            998\\t998.jpg\\t1\\t1           [998, 998.jpg, 1, 1]\n",
      "1000           999\\t999.jpg\\t1\\t1           [999, 999.jpg, 1, 1]\n",
      "\n",
      "[1001 rows x 2 columns]\n"
     ]
    }
   ],
   "source": [
    "# importing labels for testing\n",
    "test_dataFrame = pd.read_csv('Datasets\\\\celeba_test\\\\labels.csv',header = None, prefix=\"data\")\n",
    "test_dataFrame['data1']= test_dataFrame['data0'].str.split('\\t')\n",
    "print(test_dataFrame)"
   ]
  },
  {
   "cell_type": "code",
   "execution_count": 42,
   "metadata": {},
   "outputs": [
    {
     "data": {
      "text/html": [
       "<div>\n",
       "<style scoped>\n",
       "    .dataframe tbody tr th:only-of-type {\n",
       "        vertical-align: middle;\n",
       "    }\n",
       "\n",
       "    .dataframe tbody tr th {\n",
       "        vertical-align: top;\n",
       "    }\n",
       "\n",
       "    .dataframe thead th {\n",
       "        text-align: right;\n",
       "    }\n",
       "</style>\n",
       "<table border=\"1\" class=\"dataframe\">\n",
       "  <thead>\n",
       "    <tr style=\"text-align: right;\">\n",
       "      <th></th>\n",
       "      <th>image_number</th>\n",
       "      <th>jpg</th>\n",
       "      <th>gender</th>\n",
       "      <th>smiling</th>\n",
       "    </tr>\n",
       "  </thead>\n",
       "  <tbody>\n",
       "    <tr>\n",
       "      <th>0</th>\n",
       "      <td>0</td>\n",
       "      <td>0.jpg</td>\n",
       "      <td>-1</td>\n",
       "      <td>1</td>\n",
       "    </tr>\n",
       "    <tr>\n",
       "      <th>1</th>\n",
       "      <td>1</td>\n",
       "      <td>1.jpg</td>\n",
       "      <td>-1</td>\n",
       "      <td>1</td>\n",
       "    </tr>\n",
       "    <tr>\n",
       "      <th>2</th>\n",
       "      <td>2</td>\n",
       "      <td>2.jpg</td>\n",
       "      <td>1</td>\n",
       "      <td>-1</td>\n",
       "    </tr>\n",
       "    <tr>\n",
       "      <th>3</th>\n",
       "      <td>3</td>\n",
       "      <td>3.jpg</td>\n",
       "      <td>-1</td>\n",
       "      <td>-1</td>\n",
       "    </tr>\n",
       "    <tr>\n",
       "      <th>4</th>\n",
       "      <td>4</td>\n",
       "      <td>4.jpg</td>\n",
       "      <td>-1</td>\n",
       "      <td>-1</td>\n",
       "    </tr>\n",
       "    <tr>\n",
       "      <th>...</th>\n",
       "      <td>...</td>\n",
       "      <td>...</td>\n",
       "      <td>...</td>\n",
       "      <td>...</td>\n",
       "    </tr>\n",
       "    <tr>\n",
       "      <th>4995</th>\n",
       "      <td>4995</td>\n",
       "      <td>4995.jpg</td>\n",
       "      <td>1</td>\n",
       "      <td>1</td>\n",
       "    </tr>\n",
       "    <tr>\n",
       "      <th>4996</th>\n",
       "      <td>4996</td>\n",
       "      <td>4996.jpg</td>\n",
       "      <td>1</td>\n",
       "      <td>1</td>\n",
       "    </tr>\n",
       "    <tr>\n",
       "      <th>4997</th>\n",
       "      <td>4997</td>\n",
       "      <td>4997.jpg</td>\n",
       "      <td>1</td>\n",
       "      <td>1</td>\n",
       "    </tr>\n",
       "    <tr>\n",
       "      <th>4998</th>\n",
       "      <td>4998</td>\n",
       "      <td>4998.jpg</td>\n",
       "      <td>1</td>\n",
       "      <td>1</td>\n",
       "    </tr>\n",
       "    <tr>\n",
       "      <th>4999</th>\n",
       "      <td>4999</td>\n",
       "      <td>4999.jpg</td>\n",
       "      <td>1</td>\n",
       "      <td>1</td>\n",
       "    </tr>\n",
       "  </tbody>\n",
       "</table>\n",
       "<p>5000 rows × 4 columns</p>\n",
       "</div>"
      ],
      "text/plain": [
       "     image_number       jpg gender smiling\n",
       "0               0     0.jpg     -1       1\n",
       "1               1     1.jpg     -1       1\n",
       "2               2     2.jpg      1      -1\n",
       "3               3     3.jpg     -1      -1\n",
       "4               4     4.jpg     -1      -1\n",
       "...           ...       ...    ...     ...\n",
       "4995         4995  4995.jpg      1       1\n",
       "4996         4996  4996.jpg      1       1\n",
       "4997         4997  4997.jpg      1       1\n",
       "4998         4998  4998.jpg      1       1\n",
       "4999         4999  4999.jpg      1       1\n",
       "\n",
       "[5000 rows x 4 columns]"
      ]
     },
     "execution_count": 42,
     "metadata": {},
     "output_type": "execute_result"
    }
   ],
   "source": [
    "#relableing labels columns for test \n",
    "test_df3 = pd.DataFrame(test_dataFrame['data1'].to_list(), columns=['image_number','jpg','gender','smiling'])\n",
    "len(test_df3)\n",
    "test_df3 = test_df3.drop(0)\n",
    "df3.reset_index(drop=True)"
   ]
  },
  {
   "cell_type": "code",
   "execution_count": 44,
   "metadata": {},
   "outputs": [],
   "source": [
    "test_df3 = pd.DataFrame(test_dataFrame['data1'].to_list(), columns=['image_number','jpg','gender','smiling'])\n",
    "test_df3 = test_df3.drop(0)\n",
    "test_df3\n",
    "y_test = test_df3['gender']"
   ]
  },
  {
   "cell_type": "code",
   "execution_count": null,
   "metadata": {},
   "outputs": [],
   "source": []
  },
  {
   "cell_type": "code",
   "execution_count": 47,
   "metadata": {},
   "outputs": [
    {
     "name": "stdout",
     "output_type": "stream",
     "text": [
      "[[257 243]\n",
      " [240 260]]\n",
      "Accuracy on test set: 0.517\n",
      "              precision    recall  f1-score   support\n",
      "\n",
      "          -1       0.52      0.51      0.52       500\n",
      "           1       0.52      0.52      0.52       500\n",
      "\n",
      "    accuracy                           0.52      1000\n",
      "   macro avg       0.52      0.52      0.52      1000\n",
      "weighted avg       0.52      0.52      0.52      1000\n",
      "\n"
     ]
    },
    {
     "name": "stderr",
     "output_type": "stream",
     "text": [
      "C:\\Users\\Student\\anaconda3\\lib\\site-packages\\sklearn\\linear_model\\_logistic.py:764: ConvergenceWarning: lbfgs failed to converge (status=1):\n",
      "STOP: TOTAL NO. of ITERATIONS REACHED LIMIT.\n",
      "\n",
      "Increase the number of iterations (max_iter) or scale the data as shown in:\n",
      "    https://scikit-learn.org/stable/modules/preprocessing.html\n",
      "Please also refer to the documentation for alternative solver options:\n",
      "    https://scikit-learn.org/stable/modules/linear_model.html#logistic-regression\n",
      "  extra_warning_msg=_LOGISTIC_SOLVER_CONVERGENCE_MSG)\n"
     ]
    }
   ],
   "source": [
    "# sklearn functions implementation\n",
    "def logRegrPredict(x_train,y_train,xtest ):\n",
    "    # Build Logistic Regression Model\n",
    "    logreg = LogisticRegression(solver='lbfgs', max_iter=100)\n",
    "    # Train the model using the training sets\n",
    "    logreg.fit(x_train, y_train)\n",
    "    y_pred= logreg.predict(xtest)\n",
    "    #print('Accuracy on test set: {:.2f}'.format(logreg.score(x_test, y_test)))\n",
    "    return y_pred\n",
    "\n",
    "y_pred = logRegrPredict(x_train,y_train,x_test)\n",
    "#score = logisticRegr.score(x_test, y_test)\n",
    "#print(score)\n",
    "# By definition a confusion matrix C is such that C_{i,j} \n",
    "# is equal to  group the number of observations\n",
    "#  known to be in i and predicted to be in group j.\n",
    "print(confusion_matrix(y_test, y_pred))\n",
    "print('Accuracy on test set: '+str(accuracy_score(y_test,y_pred)))\n",
    "print(classification_report(y_test,y_pred))#text report showing the main classification metrics"
   ]
  },
  {
   "cell_type": "code",
   "execution_count": 53,
   "metadata": {},
   "outputs": [
    {
     "name": "stdout",
     "output_type": "stream",
     "text": [
      "[[270 230]\n",
      " [243 257]]\n",
      "Accuracy on test set: 0.527\n",
      "              precision    recall  f1-score   support\n",
      "\n",
      "          -1       0.53      0.54      0.53       500\n",
      "           1       0.53      0.51      0.52       500\n",
      "\n",
      "    accuracy                           0.53      1000\n",
      "   macro avg       0.53      0.53      0.53      1000\n",
      "weighted avg       0.53      0.53      0.53      1000\n",
      "\n"
     ]
    }
   ],
   "source": [
    "# sklearn functions implementation\n",
    "def logRegrPredict(x_train,y_train,xtest ):\n",
    "    # Build Logistic Regression Model\n",
    "    logreg = LogisticRegression(solver='saga', max_iter=5000)\n",
    "    # Train the model using the training sets\n",
    "    logreg.fit(x_train, y_train)\n",
    "    y_pred= logreg.predict(xtest)\n",
    "    #print('Accuracy on test set: {:.2f}'.format(logreg.score(x_test, y_test)))\n",
    "    return y_pred\n",
    "\n",
    "y_pred = logRegrPredict(x_train,y_train,x_test)\n",
    "#score = logisticRegr.score(x_test, y_test)\n",
    "#print(score)\n",
    "# By definition a confusion matrix C is such that C_{i,j} \n",
    "# is equal to  group the number of observations\n",
    "#  known to be in i and predicted to be in group j.\n",
    "print(confusion_matrix(y_test, y_pred))\n",
    "print('Accuracy on test set: '+str(accuracy_score(y_test,y_pred)))\n",
    "print(classification_report(y_test,y_pred))#text report showing the main classification metrics"
   ]
  },
  {
   "cell_type": "code",
   "execution_count": null,
   "metadata": {},
   "outputs": [],
   "source": []
  },
  {
   "cell_type": "code",
   "execution_count": 48,
   "metadata": {},
   "outputs": [],
   "source": [
    "\n"
   ]
  },
  {
   "cell_type": "code",
   "execution_count": null,
   "metadata": {},
   "outputs": [],
   "source": []
  },
  {
   "cell_type": "code",
   "execution_count": null,
   "metadata": {},
   "outputs": [],
   "source": []
  },
  {
   "cell_type": "code",
   "execution_count": null,
   "metadata": {},
   "outputs": [],
   "source": [
    "\n",
    "\n"
   ]
  },
  {
   "cell_type": "code",
   "execution_count": 54,
   "metadata": {},
   "outputs": [],
   "source": [
    "#Importing the Decision tree classifier from the sklearn library.\n",
    "tree_params={\n",
    "    'criterion':'entropy'\n",
    "}\n",
    "clf = tree.DecisionTreeClassifier( **tree_params )"
   ]
  },
  {
   "cell_type": "code",
   "execution_count": 60,
   "metadata": {},
   "outputs": [],
   "source": [
    "#Training the decision tree classifier on training set. \n",
    "# Please complete the code below.\n",
    "clf.fit(x_train,y_train)\n",
    "\n",
    "\n",
    "#Predicting labels on the test set.\n",
    "# Please complete the code below.\n",
    "y_pred =  clf.predict(x_test)\n",
    "\n",
    "#print(f'Test feature {x_test[0]}\\n True class {y_test[0]}\\n predict class {y_pred[0]}')"
   ]
  },
  {
   "cell_type": "code",
   "execution_count": 58,
   "metadata": {},
   "outputs": [
    {
     "name": "stdout",
     "output_type": "stream",
     "text": [
      "Accuracy Score on train data:  1.0\n",
      "Accuracy Score on test data:  0.5\n"
     ]
    }
   ],
   "source": [
    "#Use accuracy metric from sklearn.metrics library\n",
    "print('Accuracy Score on train data: ', accuracy_score(y_true=y_train, y_pred=clf.predict(x_train)))\n",
    "print('Accuracy Score on test data: ', accuracy_score(y_true=y_test, y_pred=y_pred))"
   ]
  },
  {
   "cell_type": "code",
   "execution_count": null,
   "metadata": {},
   "outputs": [],
   "source": []
  },
  {
   "cell_type": "code",
   "execution_count": null,
   "metadata": {},
   "outputs": [],
   "source": []
  },
  {
   "cell_type": "code",
   "execution_count": null,
   "metadata": {},
   "outputs": [],
   "source": []
  }
 ],
 "metadata": {
  "kernelspec": {
   "display_name": "Python 3",
   "language": "python",
   "name": "python3"
  },
  "language_info": {
   "codemirror_mode": {
    "name": "ipython",
    "version": 3
   },
   "file_extension": ".py",
   "mimetype": "text/x-python",
   "name": "python",
   "nbconvert_exporter": "python",
   "pygments_lexer": "ipython3",
   "version": "3.7.7"
  }
 },
 "nbformat": 4,
 "nbformat_minor": 4
}
