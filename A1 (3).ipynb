{
 "cells": [
  {
   "cell_type": "markdown",
   "metadata": {},
   "source": [
    "# Import Libraries "
   ]
  },
  {
   "cell_type": "code",
   "execution_count": 6,
   "metadata": {},
   "outputs": [],
   "source": [
    "## import libraries \n",
    "import pandas as pd\n",
    "import os \n",
    "import numpy as np\n",
    "from PIL import Image\n",
    "from sklearn import preprocessing\n",
    "from pathlib import Path\n",
    "from sklearn.model_selection import train_test_split\n",
    "from numpy import mean\n",
    "from numpy import std\n"
   ]
  },
  {
   "cell_type": "code",
   "execution_count": 7,
   "metadata": {},
   "outputs": [],
   "source": [
    "## import ML methods \n",
    "from sklearn.linear_model import LogisticRegression\n",
    "from sklearn.svm import LinearSVC\n",
    "from sklearn.tree import DecisionTreeClassifier\n",
    "from sklearn.ensemble import RandomForestClassifier\n",
    "from sklearn.neighbors import KNeighborsClassifier\n",
    "from sklearn.model_selection import RepeatedKFold\n",
    "from sklearn.model_selection import cross_val_score\n",
    "from sklearn.metrics import accuracy_score\n",
    "from sklearn.model_selection import RepeatedKFold\n",
    "from sklearn.model_selection import GridSearchCV\n",
    "from sklearn.model_selection import RepeatedStratifiedKFold"
   ]
  },
  {
   "cell_type": "code",
   "execution_count": 8,
   "metadata": {},
   "outputs": [],
   "source": [
    "## importing learning rate graph libraries \n",
    "from sklearn.preprocessing import StandardScaler\n",
    "from sklearn.pipeline import make_pipeline\n",
    "from sklearn.model_selection import learning_curve\n",
    "from sklearn import datasets\n",
    "import matplotlib.pyplot as plt"
   ]
  },
  {
   "cell_type": "code",
   "execution_count": 9,
   "metadata": {},
   "outputs": [],
   "source": [
    "##import conusion matrix (plot)\n",
    "from sklearn.metrics import confusion_matrix\n",
    "from sklearn.metrics import plot_confusion_matrix\n",
    "import matplotlib.pyplot as plt"
   ]
  },
  {
   "cell_type": "markdown",
   "metadata": {},
   "source": [
    "# Load training Data"
   ]
  },
  {
   "cell_type": "code",
   "execution_count": 10,
   "metadata": {},
   "outputs": [],
   "source": [
    "# load x train data\n",
    "def import_x():\n",
    "    def get_images(path):\n",
    "        #create array to hold all images information \n",
    "        all_images_as_array = []\n",
    "        for filename in os.listdir(path):\n",
    "            # open file\n",
    "            img = Image.open(path+filename)\n",
    "            #resize \n",
    "            new_img = img.resize((64, 64))\n",
    "            #convert to array\n",
    "            np_array = np.asarray(new_img)\n",
    "            #apprend to one array\n",
    "            all_images_as_array.append(np_array)\n",
    "        # return array with all images \n",
    "        return np.array(all_images_as_array)\n",
    "    #path to image folder\n",
    "    x_train = get_images('Datasets\\\\celeba\\\\img\\\\')\n",
    "    #reshappe and re-process image \n",
    "    x_train = np.reshape(x_train, (x_train.shape[0], -1))\n",
    "    #create scaler to scale the scale in imput\n",
    "    scaler = preprocessing.StandardScaler().fit(x_train)\n",
    "    #scale the input to normalise the features \n",
    "    x_train_not_split = scaler.transform(x_train)\n",
    "    #retrun normalised array of all images \n",
    "    return x_train_not_split \n",
    "    \n"
   ]
  },
  {
   "cell_type": "code",
   "execution_count": null,
   "metadata": {},
   "outputs": [],
   "source": []
  },
  {
   "cell_type": "code",
   "execution_count": 11,
   "metadata": {},
   "outputs": [],
   "source": [
    "# import y label train\n",
    "def import_y():\n",
    "    # open csv file with labele s\n",
    "    dataFrame = pd.read_csv('Datasets\\\\celeba\\\\labels.csv',header = None, prefix=\"data\")\n",
    "    #create pandas tabel \n",
    "    dataFrame['data1']= dataFrame['data0'].str.split('\\t')\n",
    "    #seperate into columns \n",
    "    df3 = pd.DataFrame(dataFrame['data1'].to_list(), columns=['image_number','jpg','gender','smiling'])\n",
    "    # separate out geneder information and replace -1 with 0 \n",
    "    df3['gender'] = df3['gender'].replace(['-1'], '0')\n",
    "    # reorder to same os image inputs \n",
    "    df3 = df3.sort_values(by ='image_number')\n",
    "    #remove column heading \n",
    "    df3 = df3.drop(0)\n",
    "    # change to int64 for selected gender column\n",
    "    df3['gender'] = pd.to_numeric(df3['gender'])\n",
    "    y_train_not_split = df3['gender']\n",
    "    #return array with all labels \n",
    "    return y_train_not_split\n"
   ]
  },
  {
   "cell_type": "code",
   "execution_count": null,
   "metadata": {},
   "outputs": [],
   "source": []
  },
  {
   "cell_type": "markdown",
   "metadata": {},
   "source": [
    "# Split training data "
   ]
  },
  {
   "cell_type": "code",
   "execution_count": 12,
   "metadata": {},
   "outputs": [],
   "source": [
    "#split data \n",
    "def split_data(x,y):\n",
    "    #split training input into 80% training 20% validation\n",
    "    x_train,x_test,y_train,y_test=train_test_split(x,y,test_size=0.2) \n",
    "    #output the training and validation set \n",
    "    return x_train,x_test,y_train,y_test "
   ]
  },
  {
   "cell_type": "code",
   "execution_count": null,
   "metadata": {},
   "outputs": [],
   "source": []
  },
  {
   "cell_type": "markdown",
   "metadata": {},
   "source": [
    "# import test data "
   ]
  },
  {
   "cell_type": "code",
   "execution_count": 10,
   "metadata": {},
   "outputs": [],
   "source": [
    "# load x test data \n",
    "def import_x_test():\n",
    "    #create array for image output\n",
    "    all_images_as_array = []\n",
    "    #iterate through all images in the test folder\n",
    "    for filename in os.listdir('Datasets\\\\celeba_test\\\\img\\\\'):\n",
    "        #open image in file\n",
    "        img = Image.open('Datasets\\\\celeba_test\\\\img\\\\'+filename)\n",
    "        #resize image to 64x64\n",
    "        new_img = img.resize((64, 64))\n",
    "        #convert image to array\n",
    "        np_array = np.asarray(new_img)\n",
    "        #append array to all image array\n",
    "        all_images_as_array.append(np_array)\n",
    "    x_test_test_data = np.array(all_images_as_array)\n",
    "    # reshape array\n",
    "    x_test_test_data = np.reshape(x_test_test_data, (x_test_test_data.shape[0], -1))\n",
    "    # create scale to normalise the imput\n",
    "    scaler = preprocessing.StandardScaler().fit(x_test_test_data)\n",
    "    #nomalise th earray \n",
    "    x_test_test_data = scaler.transform(x_test_test_data)\n",
    "    #output test s imput\n",
    "    return x_test_test_data\n"
   ]
  },
  {
   "cell_type": "code",
   "execution_count": 11,
   "metadata": {},
   "outputs": [],
   "source": [
    " # import y label test\n",
    "def import_y_test():   \n",
    "    # open csv file with the labeles \n",
    "    test_dataFrame = pd.read_csv('Datasets\\\\celeba_test\\\\labels.csv',header = None, prefix=\"data\")\n",
    "    # split the tabel into columns for each label type \n",
    "    test_dataFrame['data1']= test_dataFrame['data0'].str.split('\\t')\n",
    "    #name the column \n",
    "    test_df3 = pd.DataFrame(test_dataFrame['data1'].to_list(), columns=['image_number','jpg','gender','smiling'])\n",
    "    # replace -1 with 0\n",
    "    test_df3['gender'] = test_df3['gender'].replace(['-1'], '0')\n",
    "    # sort the label into alphabetical order by image number \n",
    "    test_df3 = test_df3.sort_values(by ='image_number')\n",
    "    #remove the 0th row\n",
    "    test_df3 = test_df3.drop(0)\n",
    "    #conver to numeric and select gender column\n",
    "    test_df3['gender'] = pd.to_numeric(test_df3['gender'])\n",
    "    y_test_test_data = test_df3['gender']\n",
    "    # output y test imput\n",
    "    return y_test_test_data"
   ]
  },
  {
   "cell_type": "markdown",
   "metadata": {},
   "source": [
    "# Making final model "
   ]
  },
  {
   "cell_type": "code",
   "execution_count": 12,
   "metadata": {},
   "outputs": [],
   "source": [
    "# produce the optimised final model \n",
    "def final_model(x_train, y_train):\n",
    "    #load classifier \n",
    "    # make mode with optimised hyperparameters \n",
    "    models = LogisticRegression(C= 0.01)\n",
    "    print('The optimised model used for A1 is:',models)\n",
    "    # Fit the classifier\n",
    "    models.fit(x_train, y_train)\n",
    "    #output final model \n",
    "    return models"
   ]
  },
  {
   "cell_type": "markdown",
   "metadata": {},
   "source": [
    "# Make prediction on the test data set and confusion matrix "
   ]
  },
  {
   "cell_type": "code",
   "execution_count": 13,
   "metadata": {},
   "outputs": [],
   "source": [
    "#evaluate model with the test data set and produce confusion matrx of results \n",
    "def asses_model(models,x_test_test_data,y_test_test_data):\n",
    "    # Make predictions\n",
    "    predictions = models.predict(x_test_test_data)\n",
    "\n",
    "    # Calculate metrics\n",
    "    accuracy= accuracy_score(predictions, y_test_test_data)\n",
    "    #print the model accuracy as a percentage \n",
    "    print('The model accuracy for A1 is:',accuracy*100,'%')\n",
    "\n",
    "    # plot confusion matrix \n",
    "    plot_confusion_matrix(models, x_test_test_data, y_test_test_data, cmap=plt.cm.Blues)  \n",
    "    #show confusion plot \n",
    "    plt.show()"
   ]
  },
  {
   "cell_type": "markdown",
   "metadata": {},
   "source": [
    "# final model function "
   ]
  },
  {
   "cell_type": "code",
   "execution_count": 14,
   "metadata": {},
   "outputs": [],
   "source": [
    "# function to run the fina model \n",
    "def A1():\n",
    "    #import X vales \n",
    "    x_train_not_split = import_x()\n",
    "    #import y values \n",
    "    y_train_not_split = import_y()\n",
    "    # split training into training and validation data \n",
    "    x_train,x_test,y_train,y_test  = split_data(x_train_not_split,y_train_not_split)\n",
    "    #import y test \n",
    "    y_test_test = import_y_test()\n",
    "    #import x test\n",
    "    x_test_test = import_x_test()\n",
    "    #import fina lmodel for evlaustion \n",
    "    models = final_model(x_train,y_train)\n",
    "    #evaluate final model \n",
    "    asses_model(models,x_test_test,y_test_test)                                        \n",
    "    \n",
    "    "
   ]
  },
  {
   "cell_type": "code",
   "execution_count": 15,
   "metadata": {},
   "outputs": [
    {
     "name": "stderr",
     "output_type": "stream",
     "text": [
      "C:\\Users\\Student\\anaconda3\\lib\\site-packages\\sklearn\\linear_model\\_logistic.py:764: ConvergenceWarning: lbfgs failed to converge (status=1):\n",
      "STOP: TOTAL NO. of ITERATIONS REACHED LIMIT.\n",
      "\n",
      "Increase the number of iterations (max_iter) or scale the data as shown in:\n",
      "    https://scikit-learn.org/stable/modules/preprocessing.html\n",
      "Please also refer to the documentation for alternative solver options:\n",
      "    https://scikit-learn.org/stable/modules/linear_model.html#logistic-regression\n",
      "  extra_warning_msg=_LOGISTIC_SOLVER_CONVERGENCE_MSG)\n"
     ]
    },
    {
     "name": "stdout",
     "output_type": "stream",
     "text": [
      "The model accuracy for A1 is: 91.3 %\n"
     ]
    },
    {
     "data": {
      "image/png": "[encoded data removed]",
      "text/plain": [
       "<Figure size 432x288 with 2 Axes>"
      ]
     },
     "metadata": {
      "needs_background": "light"
     },
     "output_type": "display_data"
    }
   ],
   "source": [
    "A1()"
   ]
  },
  {
   "cell_type": "code",
   "execution_count": null,
   "metadata": {},
   "outputs": [],
   "source": []
  },
  {
   "cell_type": "code",
   "execution_count": 13,
   "metadata": {},
   "outputs": [],
   "source": [
    "# function to import y and x and divide into train and validation set \n",
    "def import_X_Y():\n",
    "    # import x\n",
    "    x_train_not_split = import_x()\n",
    "    #imprt y \n",
    "    y_train_not_split = import_y()\n",
    "    #split data into training anad validation \n",
    "    x_train,x_test,y_train,y_test  = split_data(x_train_not_split,y_train_not_split)\n",
    "    #output training and validation \n",
    "    return x_train,x_test,y_train,y_test,x_train_not_split, y_train_not_split"
   ]
  },
  {
   "cell_type": "code",
   "execution_count": 14,
   "metadata": {},
   "outputs": [],
   "source": [
    "# run function to inport x/y and create training and validation dataset \n",
    "x_train,x_test,y_train,y_test,x_train_not_split, y_train_not_split = import_X_Y()"
   ]
  },
  {
   "cell_type": "markdown",
   "metadata": {},
   "source": [
    "# Cross validation to select the best model "
   ]
  },
  {
   "cell_type": "code",
   "execution_count": 15,
   "metadata": {},
   "outputs": [],
   "source": [
    "## create dicotary to hold CV results \n",
    "CV_df = pd.DataFrame({\"METHOD\":[],\"MEAN\":[],\"STD\":[]})\n",
    "#cross validation - split data into 10 graoups and repate 3 times \n",
    "cv = RepeatedKFold(n_splits=10, n_repeats=3, random_state=1)               "
   ]
  },
  {
   "cell_type": "code",
   "execution_count": 16,
   "metadata": {},
   "outputs": [],
   "source": [
    "#Logistic regression \n",
    "# create model\n",
    "model = LogisticRegression()\n",
    "# evaluate model\n",
    "scores = cross_val_score(model, x_train, y_train, scoring='accuracy', cv=cv, n_jobs=-1)\n",
    "#create dicoary of results \n",
    "CV_df_LR = {'Method':'Logistic regression','MEAN':scores.mean(),'STD':scores.std()}"
   ]
  },
  {
   "cell_type": "code",
   "execution_count": null,
   "metadata": {},
   "outputs": [],
   "source": [
    "\n",
    "#Decision  tree \n",
    "#create model \n",
    "model = DecisionTreeClassifier()\n",
    "# evaluate model\n",
    "scores = cross_val_score(model, x_train, y_train, scoring='accuracy', cv=cv, n_jobs=-1)\n",
    "#create dicotary of results \n",
    "CV_df_DT = {'Method':'Decision Tree','MEAN':scores.mean(),'STD':scores.std()}"
   ]
  },
  {
   "cell_type": "code",
   "execution_count": null,
   "metadata": {},
   "outputs": [],
   "source": [
    "#Random Forest  \n",
    "#creat model\n",
    "model = RandomForestClassifier()\n",
    "# evaluate model\n",
    "scores = cross_val_score(model, x_train, y_train, scoring='accuracy', cv=cv, n_jobs=-1)\n",
    "#create dicotary of results \n",
    "CV_df_RF = {'Method':'Random Forest','MEAN':scores.mean(),'STD':scores.std()}"
   ]
  },
  {
   "cell_type": "code",
   "execution_count": null,
   "metadata": {},
   "outputs": [],
   "source": [
    "#K nearest Neighbours  \n",
    "#creat model\n",
    "model = KNeighborsClassifier()\n",
    "#evaluate model\n",
    "scores = cross_val_score(model, x_train, y_train, scoring='accuracy', cv=cv, n_jobs=-1)\n",
    "#creaet dictoary of results \n",
    "CV_df_KN = {'Method':'K-Nearest Neighbors','MEAN':scores.mean(),'STD':scores.std()}"
   ]
  },
  {
   "cell_type": "code",
   "execution_count": null,
   "metadata": {},
   "outputs": [],
   "source": [
    "#compile dictoaries into one pandnas tabel\n",
    "list_of_dict = CV_df_LR, CV_df_DT,CV_df_RF,CV_df_KN\n",
    "# add list to pandas data frame \n",
    "df = pd.DataFrame(list_of_dict)\n",
    "#print table of results \n",
    "df"
   ]
  },
  {
   "cell_type": "code",
   "execution_count": null,
   "metadata": {},
   "outputs": [],
   "source": []
  },
  {
   "cell_type": "code",
   "execution_count": null,
   "metadata": {},
   "outputs": [],
   "source": []
  },
  {
   "cell_type": "code",
   "execution_count": null,
   "metadata": {},
   "outputs": [],
   "source": []
  },
  {
   "cell_type": "markdown",
   "metadata": {},
   "source": [
    "# Logistic regression model hyperparameter tuning"
   ]
  },
  {
   "cell_type": "code",
   "execution_count": null,
   "metadata": {},
   "outputs": [],
   "source": [
    "# make model of ligistic regession (highest accuracy of the CV) \n",
    "models= LogisticRegression()\n",
    "    \n",
    "#Fit the classifier\n",
    "models.fit(x_train, y_train)\n",
    "    "
   ]
  },
  {
   "cell_type": "code",
   "execution_count": null,
   "metadata": {},
   "outputs": [],
   "source": [
    "#Create the parameter grid based on the results of random search \n",
    "param_grid = { 'C':[100,10,1.0,0.1,0.01]}\n",
    "\n",
    "#Create a based model\n",
    "lr =LogisticRegression()\n",
    "# iterate through all the C values 3 times \n",
    "grid_search = GridSearchCV(estimator = lr, param_grid = param_grid,  cv = 3, n_jobs = -1, verbose = 2)"
   ]
  },
  {
   "cell_type": "code",
   "execution_count": null,
   "metadata": {},
   "outputs": [],
   "source": [
    "## Fit the grid search to the data\n",
    "grid_search.fit(x_train, y_train)\n",
    "#find best parameters \n",
    "grid_search.best_params_\n",
    "best_grid = grid_search.best_estimator_\n",
    "#print best parameter \n",
    "best_grid"
   ]
  },
  {
   "cell_type": "markdown",
   "metadata": {},
   "source": [
    "# Making hyperparameter boxplot "
   ]
  },
  {
   "cell_type": "code",
   "execution_count": null,
   "metadata": {},
   "outputs": [],
   "source": [
    "# result of CV into tabel \n",
    "# compile results into pandas table \n",
    "results_df = pd.DataFrame(grid_search.cv_results_)\n",
    "# sort by best test score \n",
    "results_df = results_df.sort_values(by=[\"rank_test_score\"])\n",
    "# compine results to find averages \n",
    "results_df = results_df.set_index(results_df[\"params\"].apply(lambda x: \"_\".join(str(val) for val in x.values()))).rename_axis(\"kernel\")\n",
    "# add columns for the mean/ standard deviation to table \n",
    "results_df[[\"params\", \"rank_test_score\", \"mean_test_score\", \"std_test_score\"]]\n"
   ]
  },
  {
   "cell_type": "code",
   "execution_count": null,
   "metadata": {},
   "outputs": [],
   "source": [
    "## extract paramets and test scores \n",
    "r_df = results_df[['param_C','split0_test_score','split1_test_score' , 'split2_test_score']]"
   ]
  },
  {
   "cell_type": "code",
   "execution_count": null,
   "metadata": {},
   "outputs": [],
   "source": [
    "## plot test scores \n",
    "#rotate table \n",
    "df = r_df.set_index('param_C')\n",
    "#plot box plot \n",
    "df.T.boxplot()"
   ]
  },
  {
   "cell_type": "code",
   "execution_count": null,
   "metadata": {},
   "outputs": [],
   "source": []
  },
  {
   "cell_type": "code",
   "execution_count": null,
   "metadata": {},
   "outputs": [],
   "source": []
  },
  {
   "cell_type": "markdown",
   "metadata": {},
   "source": [
    "# Making learning rate plot "
   ]
  },
  {
   "cell_type": "code",
   "execution_count": null,
   "metadata": {},
   "outputs": [],
   "source": [
    "##create data for all the iteration needed for the learning rate graph \n",
    "# create pipeline for optomised model \n",
    "pipeline = make_pipeline(LogisticRegression(C= 0.01))\n",
    "#create parameters to measure and vary #\n",
    "train_sizes, train_scores, test_scores = learning_curve(estimator=pipeline, X=x_train_not_split, y=y_train_not_split,cv=10, train_sizes=np.linspace(0.1, 1.0, 10),n_jobs=1)"
   ]
  },
  {
   "cell_type": "code",
   "execution_count": null,
   "metadata": {},
   "outputs": [],
   "source": [
    "# calculates points for plot \n",
    "#calcuate training plots \n",
    "train_mean = np.mean(train_scores, axis=1)\n",
    "train_std = np.std(train_scores, axis=1)\n",
    "#calculates validation set plot points \n",
    "test_mean = np.mean(test_scores, axis=1)\n",
    "test_std = np.std(test_scores, axis=1)"
   ]
  },
  {
   "cell_type": "code",
   "execution_count": null,
   "metadata": {},
   "outputs": [],
   "source": [
    "#create learning plot \n",
    "#create plot for the training data against training size \n",
    "plt.plot(train_sizes, train_mean, color='blue', marker='o', markersize=5, label='Training Accuracy')\n",
    "#fill with blue to show standard deviation \n",
    "plt.fill_between(train_sizes, train_mean + train_std, train_mean - train_std, alpha=0.15, color='blue')\n",
    "#creat eplot for valiation data \n",
    "plt.plot(train_sizes, test_mean, color='green', marker='+', markersize=5, linestyle='--', label='Validation Accuracy')\n",
    "#fill standard divation in green \n",
    "plt.fill_between(train_sizes, test_mean + test_std, test_mean - test_std, alpha=0.15, color='green')\n",
    "#title and axis label the groah \n",
    "plt.title('Learning Curve')\n",
    "plt.xlabel('Training Data Size')\n",
    "plt.ylabel('Model accuracy')\n",
    "plt.grid()\n",
    "#create legend for colours \n",
    "plt.legend(loc='lower right')\n",
    "#show graph \n",
    "plt.show()"
   ]
  },
  {
   "cell_type": "code",
   "execution_count": null,
   "metadata": {},
   "outputs": [],
   "source": []
  },
  {
   "cell_type": "code",
   "execution_count": null,
   "metadata": {},
   "outputs": [],
   "source": []
  },
  {
   "cell_type": "code",
   "execution_count": null,
   "metadata": {},
   "outputs": [],
   "source": []
  },
  {
   "cell_type": "code",
   "execution_count": null,
   "metadata": {},
   "outputs": [],
   "source": []
  },
  {
   "cell_type": "code",
   "execution_count": null,
   "metadata": {},
   "outputs": [],
   "source": [
    "\n"
   ]
  },
  {
   "cell_type": "code",
   "execution_count": null,
   "metadata": {},
   "outputs": [],
   "source": []
  },
  {
   "cell_type": "code",
   "execution_count": null,
   "metadata": {},
   "outputs": [],
   "source": []
  },
  {
   "cell_type": "code",
   "execution_count": null,
   "metadata": {},
   "outputs": [],
   "source": []
  },
  {
   "cell_type": "code",
   "execution_count": null,
   "metadata": {},
   "outputs": [],
   "source": []
  },
  {
   "cell_type": "code",
   "execution_count": null,
   "metadata": {},
   "outputs": [],
   "source": []
  },
  {
   "cell_type": "code",
   "execution_count": null,
   "metadata": {},
   "outputs": [],
   "source": []
  },
  {
   "cell_type": "code",
   "execution_count": null,
   "metadata": {},
   "outputs": [],
   "source": []
  },
  {
   "cell_type": "code",
   "execution_count": null,
   "metadata": {},
   "outputs": [],
   "source": [
    "\n",
    "    \n",
    "  "
   ]
  },
  {
   "cell_type": "code",
   "execution_count": null,
   "metadata": {},
   "outputs": [],
   "source": []
  },
  {
   "cell_type": "code",
   "execution_count": null,
   "metadata": {},
   "outputs": [],
   "source": []
  }
 ],
 "metadata": {
  "kernelspec": {
   "display_name": "Python 3",
   "language": "python",
   "name": "python3"
  },
  "language_info": {
   "codemirror_mode": {
    "name": "ipython",
    "version": 3
   },
   "file_extension": ".py",
   "mimetype": "text/x-python",
   "name": "python",
   "nbconvert_exporter": "python",
   "pygments_lexer": "ipython3",
   "version": "3.7.7"
  }
 },
 "nbformat": 4,
 "nbformat_minor": 4
}
